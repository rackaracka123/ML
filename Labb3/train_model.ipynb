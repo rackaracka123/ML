{
 "cells": [
  {
   "cell_type": "markdown",
   "metadata": {},
   "source": [
    "## Imports"
   ]
  },
  {
   "cell_type": "code",
   "execution_count": 16,
   "metadata": {},
   "outputs": [],
   "source": [
    "import pandas as pd\n",
    "import numpy as np\n",
    "\n",
    "from sklearn.model_selection import train_test_split\n",
    "\n",
    "from sklearn.linear_model import *\n",
    "from sklearn.ensemble import *\n",
    "from sklearn.preprocessing import PolynomialFeatures, MinMaxScaler\n",
    "from sklearn.neighbors import KNeighborsClassifier\n",
    "from sklearn import svm\n",
    "\n",
    "from sklearn.pipeline import make_pipeline\n",
    "from sklearn.preprocessing import *\n",
    "\n",
    "from sklearn.metrics import mean_squared_error, r2_score\n",
    "from datetime import datetime\n",
    "import math\n",
    "\n",
    "from joblib import dump, load\n",
    "\n",
    "lookup_df = pd.read_csv(\"zone_lookup.csv\")\n",
    "\n",
    "DATEPARSE = \"%Y-%m-%d %H\""
   ]
  },
  {
   "cell_type": "code",
   "execution_count": 17,
   "metadata": {},
   "outputs": [],
   "source": [
    "def save_model(model, poly, min_max):\n",
    "    file_name = datetime.now().strftime(DATEPARSE)\n",
    "    dump(model, \"models/\" + file_name + \"_model.joblib\")\n",
    "    dump(poly, \"models/\" + file_name + \"_poly.joblib\")\n",
    "    dump(min_max, \"models/\" + file_name + \"_min_max.joblib\")"
   ]
  },
  {
   "cell_type": "markdown",
   "metadata": {},
   "source": [
    "# Train"
   ]
  },
  {
   "cell_type": "code",
   "execution_count": 19,
   "metadata": {},
   "outputs": [
    {
     "name": "stdout",
     "output_type": "stream",
     "text": [
      "0: Mean squared error: 85.08678029772538 Accuracy: -0.0021003361228904005\n",
      "1: Mean squared error: 63.36800030572017 Accuracy: 0.10429701608099085\n",
      "New best accuracy\n",
      "2: Mean squared error: 69.00441723840346 Accuracy: 0.21764257890029537\n",
      "New best accuracy\n",
      "3: Mean squared error: 82.85062113439864 Accuracy: 0.2403039415849636\n",
      "New best accuracy\n",
      "4: Mean squared error: 86.04618557000849 Accuracy: 0.12396731886135226\n"
     ]
    },
    {
     "ename": "KeyboardInterrupt",
     "evalue": "",
     "output_type": "error",
     "traceback": [
      "\u001b[1;31m---------------------------------------------------------------------------\u001b[0m",
      "\u001b[1;31mKeyboardInterrupt\u001b[0m                         Traceback (most recent call last)",
      "\u001b[1;32mc:\\Users\\rackaracka\\Documents\\repos\\ML\\Labb3\\train_model.ipynb Cell 5'\u001b[0m in \u001b[0;36m<module>\u001b[1;34m\u001b[0m\n\u001b[0;32m     <a href='vscode-notebook-cell:/c%3A/Users/rackaracka/Documents/repos/ML/Labb3/train_model.ipynb#ch0000004?line=16'>17</a>\u001b[0m scaled \u001b[39m=\u001b[39m poly\u001b[39m.\u001b[39mfit_transform(min_max\u001b[39m.\u001b[39mfit_transform(X_green\u001b[39m.\u001b[39mvalues))\n\u001b[0;32m     <a href='vscode-notebook-cell:/c%3A/Users/rackaracka/Documents/repos/ML/Labb3/train_model.ipynb#ch0000004?line=18'>19</a>\u001b[0m X_train, X_test, y_train, y_test \u001b[39m=\u001b[39m train_test_split(scaled, y_green\u001b[39m.\u001b[39mvalues\u001b[39m.\u001b[39mravel(), test_size \u001b[39m=\u001b[39m \u001b[39m0.25\u001b[39m)\n\u001b[1;32m---> <a href='vscode-notebook-cell:/c%3A/Users/rackaracka/Documents/repos/ML/Labb3/train_model.ipynb#ch0000004?line=20'>21</a>\u001b[0m model\u001b[39m.\u001b[39;49mpartial_fit(X_train, y_train)\n\u001b[0;32m     <a href='vscode-notebook-cell:/c%3A/Users/rackaracka/Documents/repos/ML/Labb3/train_model.ipynb#ch0000004?line=22'>23</a>\u001b[0m y_pred \u001b[39m=\u001b[39m model\u001b[39m.\u001b[39mpredict(X_test)\n\u001b[0;32m     <a href='vscode-notebook-cell:/c%3A/Users/rackaracka/Documents/repos/ML/Labb3/train_model.ipynb#ch0000004?line=24'>25</a>\u001b[0m score \u001b[39m=\u001b[39m r2_score(y_test, y_pred)\n",
      "File \u001b[1;32mC:\\Python310\\lib\\site-packages\\sklearn\\linear_model\\_stochastic_gradient.py:1447\u001b[0m, in \u001b[0;36mBaseSGDRegressor.partial_fit\u001b[1;34m(self, X, y, sample_weight)\u001b[0m\n\u001b[0;32m   <a href='file:///c%3A/Python310/lib/site-packages/sklearn/linear_model/_stochastic_gradient.py?line=1421'>1422</a>\u001b[0m \u001b[39m\"\"\"Perform one epoch of stochastic gradient descent on given samples.\u001b[39;00m\n\u001b[0;32m   <a href='file:///c%3A/Python310/lib/site-packages/sklearn/linear_model/_stochastic_gradient.py?line=1422'>1423</a>\u001b[0m \n\u001b[0;32m   <a href='file:///c%3A/Python310/lib/site-packages/sklearn/linear_model/_stochastic_gradient.py?line=1423'>1424</a>\u001b[0m \u001b[39mInternally, this method uses ``max_iter = 1``. Therefore, it is not\u001b[39;00m\n\u001b[1;32m   (...)\u001b[0m\n\u001b[0;32m   <a href='file:///c%3A/Python310/lib/site-packages/sklearn/linear_model/_stochastic_gradient.py?line=1443'>1444</a>\u001b[0m \u001b[39m    Returns an instance of self.\u001b[39;00m\n\u001b[0;32m   <a href='file:///c%3A/Python310/lib/site-packages/sklearn/linear_model/_stochastic_gradient.py?line=1444'>1445</a>\u001b[0m \u001b[39m\"\"\"\u001b[39;00m\n\u001b[0;32m   <a href='file:///c%3A/Python310/lib/site-packages/sklearn/linear_model/_stochastic_gradient.py?line=1445'>1446</a>\u001b[0m \u001b[39mself\u001b[39m\u001b[39m.\u001b[39m_validate_params(for_partial_fit\u001b[39m=\u001b[39m\u001b[39mTrue\u001b[39;00m)\n\u001b[1;32m-> <a href='file:///c%3A/Python310/lib/site-packages/sklearn/linear_model/_stochastic_gradient.py?line=1446'>1447</a>\u001b[0m \u001b[39mreturn\u001b[39;00m \u001b[39mself\u001b[39;49m\u001b[39m.\u001b[39;49m_partial_fit(\n\u001b[0;32m   <a href='file:///c%3A/Python310/lib/site-packages/sklearn/linear_model/_stochastic_gradient.py?line=1447'>1448</a>\u001b[0m     X,\n\u001b[0;32m   <a href='file:///c%3A/Python310/lib/site-packages/sklearn/linear_model/_stochastic_gradient.py?line=1448'>1449</a>\u001b[0m     y,\n\u001b[0;32m   <a href='file:///c%3A/Python310/lib/site-packages/sklearn/linear_model/_stochastic_gradient.py?line=1449'>1450</a>\u001b[0m     \u001b[39mself\u001b[39;49m\u001b[39m.\u001b[39;49malpha,\n\u001b[0;32m   <a href='file:///c%3A/Python310/lib/site-packages/sklearn/linear_model/_stochastic_gradient.py?line=1450'>1451</a>\u001b[0m     C\u001b[39m=\u001b[39;49m\u001b[39m1.0\u001b[39;49m,\n\u001b[0;32m   <a href='file:///c%3A/Python310/lib/site-packages/sklearn/linear_model/_stochastic_gradient.py?line=1451'>1452</a>\u001b[0m     loss\u001b[39m=\u001b[39;49m\u001b[39mself\u001b[39;49m\u001b[39m.\u001b[39;49mloss,\n\u001b[0;32m   <a href='file:///c%3A/Python310/lib/site-packages/sklearn/linear_model/_stochastic_gradient.py?line=1452'>1453</a>\u001b[0m     learning_rate\u001b[39m=\u001b[39;49m\u001b[39mself\u001b[39;49m\u001b[39m.\u001b[39;49mlearning_rate,\n\u001b[0;32m   <a href='file:///c%3A/Python310/lib/site-packages/sklearn/linear_model/_stochastic_gradient.py?line=1453'>1454</a>\u001b[0m     max_iter\u001b[39m=\u001b[39;49m\u001b[39m1\u001b[39;49m,\n\u001b[0;32m   <a href='file:///c%3A/Python310/lib/site-packages/sklearn/linear_model/_stochastic_gradient.py?line=1454'>1455</a>\u001b[0m     sample_weight\u001b[39m=\u001b[39;49msample_weight,\n\u001b[0;32m   <a href='file:///c%3A/Python310/lib/site-packages/sklearn/linear_model/_stochastic_gradient.py?line=1455'>1456</a>\u001b[0m     coef_init\u001b[39m=\u001b[39;49m\u001b[39mNone\u001b[39;49;00m,\n\u001b[0;32m   <a href='file:///c%3A/Python310/lib/site-packages/sklearn/linear_model/_stochastic_gradient.py?line=1456'>1457</a>\u001b[0m     intercept_init\u001b[39m=\u001b[39;49m\u001b[39mNone\u001b[39;49;00m,\n\u001b[0;32m   <a href='file:///c%3A/Python310/lib/site-packages/sklearn/linear_model/_stochastic_gradient.py?line=1457'>1458</a>\u001b[0m )\n",
      "File \u001b[1;32mC:\\Python310\\lib\\site-packages\\sklearn\\linear_model\\_stochastic_gradient.py:1415\u001b[0m, in \u001b[0;36mBaseSGDRegressor._partial_fit\u001b[1;34m(self, X, y, alpha, C, loss, learning_rate, max_iter, sample_weight, coef_init, intercept_init)\u001b[0m\n\u001b[0;32m   <a href='file:///c%3A/Python310/lib/site-packages/sklearn/linear_model/_stochastic_gradient.py?line=1411'>1412</a>\u001b[0m     \u001b[39mself\u001b[39m\u001b[39m.\u001b[39m_average_coef \u001b[39m=\u001b[39m np\u001b[39m.\u001b[39mzeros(n_features, dtype\u001b[39m=\u001b[39mnp\u001b[39m.\u001b[39mfloat64, order\u001b[39m=\u001b[39m\u001b[39m\"\u001b[39m\u001b[39mC\u001b[39m\u001b[39m\"\u001b[39m)\n\u001b[0;32m   <a href='file:///c%3A/Python310/lib/site-packages/sklearn/linear_model/_stochastic_gradient.py?line=1412'>1413</a>\u001b[0m     \u001b[39mself\u001b[39m\u001b[39m.\u001b[39m_average_intercept \u001b[39m=\u001b[39m np\u001b[39m.\u001b[39mzeros(\u001b[39m1\u001b[39m, dtype\u001b[39m=\u001b[39mnp\u001b[39m.\u001b[39mfloat64, order\u001b[39m=\u001b[39m\u001b[39m\"\u001b[39m\u001b[39mC\u001b[39m\u001b[39m\"\u001b[39m)\n\u001b[1;32m-> <a href='file:///c%3A/Python310/lib/site-packages/sklearn/linear_model/_stochastic_gradient.py?line=1414'>1415</a>\u001b[0m \u001b[39mself\u001b[39;49m\u001b[39m.\u001b[39;49m_fit_regressor(\n\u001b[0;32m   <a href='file:///c%3A/Python310/lib/site-packages/sklearn/linear_model/_stochastic_gradient.py?line=1415'>1416</a>\u001b[0m     X, y, alpha, C, loss, learning_rate, sample_weight, max_iter\n\u001b[0;32m   <a href='file:///c%3A/Python310/lib/site-packages/sklearn/linear_model/_stochastic_gradient.py?line=1416'>1417</a>\u001b[0m )\n\u001b[0;32m   <a href='file:///c%3A/Python310/lib/site-packages/sklearn/linear_model/_stochastic_gradient.py?line=1418'>1419</a>\u001b[0m \u001b[39mreturn\u001b[39;00m \u001b[39mself\u001b[39m\n",
      "File \u001b[1;32mC:\\Python310\\lib\\site-packages\\sklearn\\linear_model\\_stochastic_gradient.py:1618\u001b[0m, in \u001b[0;36mBaseSGDRegressor._fit_regressor\u001b[1;34m(self, X, y, alpha, C, loss, learning_rate, sample_weight, max_iter)\u001b[0m\n\u001b[0;32m   <a href='file:///c%3A/Python310/lib/site-packages/sklearn/linear_model/_stochastic_gradient.py?line=1614'>1615</a>\u001b[0m     average_coef \u001b[39m=\u001b[39m \u001b[39mNone\u001b[39;00m  \u001b[39m# Not used\u001b[39;00m\n\u001b[0;32m   <a href='file:///c%3A/Python310/lib/site-packages/sklearn/linear_model/_stochastic_gradient.py?line=1615'>1616</a>\u001b[0m     average_intercept \u001b[39m=\u001b[39m [\u001b[39m0\u001b[39m]  \u001b[39m# Not used\u001b[39;00m\n\u001b[1;32m-> <a href='file:///c%3A/Python310/lib/site-packages/sklearn/linear_model/_stochastic_gradient.py?line=1617'>1618</a>\u001b[0m coef, intercept, average_coef, average_intercept, \u001b[39mself\u001b[39m\u001b[39m.\u001b[39mn_iter_ \u001b[39m=\u001b[39m _plain_sgd(\n\u001b[0;32m   <a href='file:///c%3A/Python310/lib/site-packages/sklearn/linear_model/_stochastic_gradient.py?line=1618'>1619</a>\u001b[0m     coef,\n\u001b[0;32m   <a href='file:///c%3A/Python310/lib/site-packages/sklearn/linear_model/_stochastic_gradient.py?line=1619'>1620</a>\u001b[0m     intercept[\u001b[39m0\u001b[39;49m],\n\u001b[0;32m   <a href='file:///c%3A/Python310/lib/site-packages/sklearn/linear_model/_stochastic_gradient.py?line=1620'>1621</a>\u001b[0m     average_coef,\n\u001b[0;32m   <a href='file:///c%3A/Python310/lib/site-packages/sklearn/linear_model/_stochastic_gradient.py?line=1621'>1622</a>\u001b[0m     average_intercept[\u001b[39m0\u001b[39;49m],\n\u001b[0;32m   <a href='file:///c%3A/Python310/lib/site-packages/sklearn/linear_model/_stochastic_gradient.py?line=1622'>1623</a>\u001b[0m     loss_function,\n\u001b[0;32m   <a href='file:///c%3A/Python310/lib/site-packages/sklearn/linear_model/_stochastic_gradient.py?line=1623'>1624</a>\u001b[0m     penalty_type,\n\u001b[0;32m   <a href='file:///c%3A/Python310/lib/site-packages/sklearn/linear_model/_stochastic_gradient.py?line=1624'>1625</a>\u001b[0m     alpha,\n\u001b[0;32m   <a href='file:///c%3A/Python310/lib/site-packages/sklearn/linear_model/_stochastic_gradient.py?line=1625'>1626</a>\u001b[0m     C,\n\u001b[0;32m   <a href='file:///c%3A/Python310/lib/site-packages/sklearn/linear_model/_stochastic_gradient.py?line=1626'>1627</a>\u001b[0m     \u001b[39mself\u001b[39;49m\u001b[39m.\u001b[39;49ml1_ratio,\n\u001b[0;32m   <a href='file:///c%3A/Python310/lib/site-packages/sklearn/linear_model/_stochastic_gradient.py?line=1627'>1628</a>\u001b[0m     dataset,\n\u001b[0;32m   <a href='file:///c%3A/Python310/lib/site-packages/sklearn/linear_model/_stochastic_gradient.py?line=1628'>1629</a>\u001b[0m     validation_mask,\n\u001b[0;32m   <a href='file:///c%3A/Python310/lib/site-packages/sklearn/linear_model/_stochastic_gradient.py?line=1629'>1630</a>\u001b[0m     \u001b[39mself\u001b[39;49m\u001b[39m.\u001b[39;49mearly_stopping,\n\u001b[0;32m   <a href='file:///c%3A/Python310/lib/site-packages/sklearn/linear_model/_stochastic_gradient.py?line=1630'>1631</a>\u001b[0m     validation_score_cb,\n\u001b[0;32m   <a href='file:///c%3A/Python310/lib/site-packages/sklearn/linear_model/_stochastic_gradient.py?line=1631'>1632</a>\u001b[0m     \u001b[39mint\u001b[39;49m(\u001b[39mself\u001b[39;49m\u001b[39m.\u001b[39;49mn_iter_no_change),\n\u001b[0;32m   <a href='file:///c%3A/Python310/lib/site-packages/sklearn/linear_model/_stochastic_gradient.py?line=1632'>1633</a>\u001b[0m     max_iter,\n\u001b[0;32m   <a href='file:///c%3A/Python310/lib/site-packages/sklearn/linear_model/_stochastic_gradient.py?line=1633'>1634</a>\u001b[0m     tol,\n\u001b[0;32m   <a href='file:///c%3A/Python310/lib/site-packages/sklearn/linear_model/_stochastic_gradient.py?line=1634'>1635</a>\u001b[0m     \u001b[39mint\u001b[39;49m(\u001b[39mself\u001b[39;49m\u001b[39m.\u001b[39;49mfit_intercept),\n\u001b[0;32m   <a href='file:///c%3A/Python310/lib/site-packages/sklearn/linear_model/_stochastic_gradient.py?line=1635'>1636</a>\u001b[0m     \u001b[39mint\u001b[39;49m(\u001b[39mself\u001b[39;49m\u001b[39m.\u001b[39;49mverbose),\n\u001b[0;32m   <a href='file:///c%3A/Python310/lib/site-packages/sklearn/linear_model/_stochastic_gradient.py?line=1636'>1637</a>\u001b[0m     \u001b[39mint\u001b[39;49m(\u001b[39mself\u001b[39;49m\u001b[39m.\u001b[39;49mshuffle),\n\u001b[0;32m   <a href='file:///c%3A/Python310/lib/site-packages/sklearn/linear_model/_stochastic_gradient.py?line=1637'>1638</a>\u001b[0m     seed,\n\u001b[0;32m   <a href='file:///c%3A/Python310/lib/site-packages/sklearn/linear_model/_stochastic_gradient.py?line=1638'>1639</a>\u001b[0m     \u001b[39m1.0\u001b[39;49m,\n\u001b[0;32m   <a href='file:///c%3A/Python310/lib/site-packages/sklearn/linear_model/_stochastic_gradient.py?line=1639'>1640</a>\u001b[0m     \u001b[39m1.0\u001b[39;49m,\n\u001b[0;32m   <a href='file:///c%3A/Python310/lib/site-packages/sklearn/linear_model/_stochastic_gradient.py?line=1640'>1641</a>\u001b[0m     learning_rate_type,\n\u001b[0;32m   <a href='file:///c%3A/Python310/lib/site-packages/sklearn/linear_model/_stochastic_gradient.py?line=1641'>1642</a>\u001b[0m     \u001b[39mself\u001b[39;49m\u001b[39m.\u001b[39;49meta0,\n\u001b[0;32m   <a href='file:///c%3A/Python310/lib/site-packages/sklearn/linear_model/_stochastic_gradient.py?line=1642'>1643</a>\u001b[0m     \u001b[39mself\u001b[39;49m\u001b[39m.\u001b[39;49mpower_t,\n\u001b[0;32m   <a href='file:///c%3A/Python310/lib/site-packages/sklearn/linear_model/_stochastic_gradient.py?line=1643'>1644</a>\u001b[0m     \u001b[39m0\u001b[39;49m,\n\u001b[0;32m   <a href='file:///c%3A/Python310/lib/site-packages/sklearn/linear_model/_stochastic_gradient.py?line=1644'>1645</a>\u001b[0m     \u001b[39mself\u001b[39;49m\u001b[39m.\u001b[39;49mt_,\n\u001b[0;32m   <a href='file:///c%3A/Python310/lib/site-packages/sklearn/linear_model/_stochastic_gradient.py?line=1645'>1646</a>\u001b[0m     intercept_decay,\n\u001b[0;32m   <a href='file:///c%3A/Python310/lib/site-packages/sklearn/linear_model/_stochastic_gradient.py?line=1646'>1647</a>\u001b[0m     \u001b[39mself\u001b[39;49m\u001b[39m.\u001b[39;49maverage,\n\u001b[0;32m   <a href='file:///c%3A/Python310/lib/site-packages/sklearn/linear_model/_stochastic_gradient.py?line=1647'>1648</a>\u001b[0m )\n\u001b[0;32m   <a href='file:///c%3A/Python310/lib/site-packages/sklearn/linear_model/_stochastic_gradient.py?line=1649'>1650</a>\u001b[0m \u001b[39mself\u001b[39m\u001b[39m.\u001b[39mt_ \u001b[39m+\u001b[39m\u001b[39m=\u001b[39m \u001b[39mself\u001b[39m\u001b[39m.\u001b[39mn_iter_ \u001b[39m*\u001b[39m X\u001b[39m.\u001b[39mshape[\u001b[39m0\u001b[39m]\n\u001b[0;32m   <a href='file:///c%3A/Python310/lib/site-packages/sklearn/linear_model/_stochastic_gradient.py?line=1651'>1652</a>\u001b[0m \u001b[39mif\u001b[39;00m \u001b[39mself\u001b[39m\u001b[39m.\u001b[39maverage \u001b[39m>\u001b[39m \u001b[39m0\u001b[39m:\n",
      "\u001b[1;31mKeyboardInterrupt\u001b[0m: "
     ]
    }
   ],
   "source": [
    "#dfGreen = pd.read_csv(\"taxi_data/green_tripdata_2019_concat.csv\", chunksize=50000)\n",
    "dfYellow = pd.read_csv(\"taxi_data/yellow_tripdata_2019_concat.csv\", chunksize=50000)\n",
    "\n",
    "model = SGDRegressor()\n",
    "\n",
    "poly = PolynomialFeatures(degree=12, include_bias=False)\n",
    "min_max = MinMaxScaler()\n",
    "\n",
    "counter = 0\n",
    "best_accuracy = 0\n",
    "\n",
    "for chunk in dfYellow:\n",
    "\n",
    "    X_green = chunk[[\"PU_start\", \"PUlat\", \"PUlong\",\"DOlat\", \"DOlong\"]] # input cols\n",
    "    y_green = chunk[[\"travel_time\"]] # output cols\n",
    "    \n",
    "    scaled = poly.fit_transform(min_max.fit_transform(X_green.values))\n",
    "\n",
    "    X_train, X_test, y_train, y_test = train_test_split(scaled, y_green.values.ravel(), test_size = 0.25)\n",
    "\n",
    "    model.partial_fit(X_train, y_train)\n",
    "\n",
    "    y_pred = model.predict(X_test)\n",
    "    \n",
    "    score = r2_score(y_test, y_pred)\n",
    "\n",
    "    print(str(counter) + \": Mean squared error: \" + str(mean_squared_error(y_test, y_pred)) + \" Accuracy: \" + str(score))\n",
    "    if score > best_accuracy:\n",
    "        print(\"New best accuracy\")\n",
    "        save_model(model, poly, min_max)\n",
    "        best_accuracy = score\n",
    "    counter += 1"
   ]
  }
 ],
 "metadata": {
  "interpreter": {
   "hash": "2be5faf79681da6f2a61fdfdd5405d65d042280f7fba6178067603e3a2925119"
  },
  "kernelspec": {
   "display_name": "Python 3.10.0 64-bit",
   "language": "python",
   "name": "python3"
  },
  "language_info": {
   "codemirror_mode": {
    "name": "ipython",
    "version": 3
   },
   "file_extension": ".py",
   "mimetype": "text/x-python",
   "name": "python",
   "nbconvert_exporter": "python",
   "pygments_lexer": "ipython3",
   "version": "3.10.0"
  },
  "orig_nbformat": 4
 },
 "nbformat": 4,
 "nbformat_minor": 2
}
