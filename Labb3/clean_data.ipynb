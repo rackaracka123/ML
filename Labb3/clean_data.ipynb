{
 "cells": [
  {
   "cell_type": "markdown",
   "metadata": {},
   "source": [
    "## IMPORT"
   ]
  },
  {
   "cell_type": "code",
   "execution_count": 1,
   "metadata": {},
   "outputs": [],
   "source": [
    "import pandas as pd\n",
    "import numpy as np\n",
    "\n",
    "from sklearn.model_selection import train_test_split\n",
    "\n",
    "from sklearn.linear_model import *\n",
    "from sklearn.ensemble import *\n",
    "from sklearn.preprocessing import PolynomialFeatures, MinMaxScaler\n",
    "from sklearn.neighbors import KNeighborsClassifier\n",
    "from sklearn import svm\n",
    "\n",
    "from sklearn.pipeline import make_pipeline\n",
    "from sklearn.preprocessing import *\n",
    "\n",
    "from sklearn.metrics import mean_squared_error, r2_score\n",
    "from datetime import datetime\n",
    "import math\n",
    "\n",
    "from joblib import dump, load\n",
    "\n",
    "lookup_df = pd.read_csv(\"zone_lookup.csv\")\n",
    "\n",
    "DATEPARSE = \"%Y-%m-%d %H:%M:%S\""
   ]
  },
  {
   "cell_type": "markdown",
   "metadata": {},
   "source": [
    "## Clean data"
   ]
  },
  {
   "cell_type": "code",
   "execution_count": null,
   "metadata": {},
   "outputs": [],
   "source": [
    "def time_to_minutes(_today):\n",
    "    return (_today.hour*60) + (_today.minute)\n",
    "def add_zero_padding(number):\n",
    "    if len(str(number)) == 1: return \"0\" + str(number)\n",
    "    else: return number\n",
    "def format_df(DF, pickup_date_column, dropof_date_column, month):\n",
    "    #Clean some rows where the location id is invalid\n",
    "    DF = DF.dropna()\n",
    "    DF = DF[((DF[\"PULocationID\"] != 264) & (DF[\"PULocationID\"] != 265)) & ((DF[\"DOLocationID\"] != 264) & (DF[\"DOLocationID\"] != 265))]\n",
    "\n",
    "    start = pd.to_datetime(DF[pickup_date_column])\n",
    "    stop = pd.to_datetime(DF[dropof_date_column])\n",
    "    DF['travel_time'] = (stop - start).astype('timedelta64[m]').astype('int64')\n",
    "\n",
    "    DF = DF[(DF[\"travel_time\"] < 5*60)]\n",
    "\n",
    "    DF['PU_start'] = (start).dt.hour\n",
    "\n",
    "    DF['PUlat'] = DF.PULocationID.map(lookup_df.set_index('LocationID').lat)\n",
    "    DF['PUlong'] = DF.PULocationID.map(lookup_df.set_index('LocationID').long)\n",
    "    DF['DOlat'] = DF.DOLocationID.map(lookup_df.set_index('LocationID').lat)\n",
    "    DF['DOlong'] = DF.DOLocationID.map(lookup_df.set_index('LocationID').long)\n",
    "\n",
    "    DF['distance'] = ((DF.PUlat - DF.DOlat) ** 2 + (DF.PUlong - DF.DOlong) ** 2) ** 0.5\n",
    "\n",
    "    DF = DF.drop(columns=[dropof_date_column, pickup_date_column])\n",
    "    return DF"
   ]
  },
  {
   "cell_type": "code",
   "execution_count": null,
   "metadata": {},
   "outputs": [],
   "source": [
    "#dataset = (\"taxi_data/green_tripdata_2019\", \"l\")\n",
    "dataset = (\"taxi_data/yellow_tripdata_2019\", \"t\")\n",
    "\n",
    "pd.options.mode.chained_assignment = None\n",
    "header = True\n",
    "for x in range(1, 13): # this takes 5 min\n",
    "    try:\n",
    "        print(\"Reading csv: \" + str(x))\n",
    "        dfGreen = pd.read_csv(dataset[0] + \"-\" + str(add_zero_padding(x)) + \".csv\", usecols=[\"PULocationID\", \"DOLocationID\", dataset[1] + \"pep_pickup_datetime\", dataset[1] + \"pep_dropoff_datetime\"])\n",
    "        print(\"Formating csv\")\n",
    "        dfGreen = format_df(dfGreen, dataset[1] + \"pep_pickup_datetime\", dataset[1] + \"pep_dropoff_datetime\", x)\n",
    "        print(\"Writing csv\")\n",
    "        dfGreen.to_csv(dataset[0] + \"_concat.csv\", mode='a+', header=header, index=False)\n",
    "        header=False\n",
    "        print(\"DONE: \" + str(x))\n",
    "    except Exception as f:\n",
    "        print(f)\n",
    "pd.options.mode.chained_assignment = \"warn\""
   ]
  }
 ],
 "metadata": {
  "interpreter": {
   "hash": "2be5faf79681da6f2a61fdfdd5405d65d042280f7fba6178067603e3a2925119"
  },
  "kernelspec": {
   "display_name": "Python 3.10.0 64-bit",
   "language": "python",
   "name": "python3"
  },
  "language_info": {
   "codemirror_mode": {
    "name": "ipython",
    "version": 3
   },
   "file_extension": ".py",
   "mimetype": "text/x-python",
   "name": "python",
   "nbconvert_exporter": "python",
   "pygments_lexer": "ipython3",
   "version": "3.10.0"
  },
  "orig_nbformat": 4
 },
 "nbformat": 4,
 "nbformat_minor": 2
}
