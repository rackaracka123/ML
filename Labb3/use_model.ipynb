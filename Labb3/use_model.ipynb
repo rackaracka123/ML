{
 "cells": [
  {
   "cell_type": "markdown",
   "metadata": {},
   "source": [
    "## Import"
   ]
  },
  {
   "cell_type": "code",
   "execution_count": 1,
   "metadata": {},
   "outputs": [],
   "source": [
    "import pandas as pd\n",
    "import numpy as np\n",
    "\n",
    "from sklearn.model_selection import train_test_split\n",
    "\n",
    "from sklearn.linear_model import *\n",
    "from sklearn.ensemble import *\n",
    "from sklearn.preprocessing import PolynomialFeatures, MinMaxScaler\n",
    "from sklearn.neighbors import KNeighborsClassifier\n",
    "from sklearn import svm\n",
    "\n",
    "from sklearn.pipeline import make_pipeline\n",
    "from sklearn.preprocessing import *\n",
    "\n",
    "from sklearn.metrics import mean_squared_error, r2_score\n",
    "from datetime import datetime\n",
    "import math\n",
    "\n",
    "from joblib import dump, load\n",
    "\n",
    "lookup_df = pd.read_csv(\"zone_lookup.csv\")\n",
    "\n",
    "DATEPARSE = \"%Y-%m-%d %H:%M:%S\""
   ]
  },
  {
   "cell_type": "markdown",
   "metadata": {},
   "source": [
    "## Load model, data"
   ]
  },
  {
   "cell_type": "code",
   "execution_count": 12,
   "metadata": {},
   "outputs": [],
   "source": [
    "filename=\"models/\" + datetime.now().strftime(\"%Y-%m-%d %H\")\n",
    "model = load(filename + \"_model.joblib\")\n",
    "poly = load(filename + \"_poly.joblib\")\n",
    "min_max = load(filename + \"_min_max.joblib\")\n",
    "headers = [\"PU_start\", \"PUlat\", \"PUlong\",\"DOlat\", \"DOlong\", \"distance\"]"
   ]
  },
  {
   "cell_type": "markdown",
   "metadata": {},
   "source": [
    "## Predict"
   ]
  },
  {
   "cell_type": "code",
   "execution_count": 23,
   "metadata": {},
   "outputs": [
    {
     "name": "stdout",
     "output_type": "stream",
     "text": [
      "[1.7453007]\n",
      "[[9]]\n"
     ]
    }
   ],
   "source": [
    "X_data = [[10.0, 40.731466, -73.000096, 41.718883, -74.008276]]\n",
    "y_data = [[9]] # [\"travel_time\"]'\n",
    "\n",
    "scaled = poly.fit_transform(min_max.fit_transform(X_data))\n",
    "y_pred = model.predict(scaled)\n",
    "\n",
    "print(y_pred)\n",
    "print(y_data)"
   ]
  }
 ],
 "metadata": {
  "interpreter": {
   "hash": "2be5faf79681da6f2a61fdfdd5405d65d042280f7fba6178067603e3a2925119"
  },
  "kernelspec": {
   "display_name": "Python 3.10.0 64-bit",
   "language": "python",
   "name": "python3"
  },
  "language_info": {
   "codemirror_mode": {
    "name": "ipython",
    "version": 3
   },
   "file_extension": ".py",
   "mimetype": "text/x-python",
   "name": "python",
   "nbconvert_exporter": "python",
   "pygments_lexer": "ipython3",
   "version": "3.10.0"
  },
  "orig_nbformat": 4
 },
 "nbformat": 4,
 "nbformat_minor": 2
}
