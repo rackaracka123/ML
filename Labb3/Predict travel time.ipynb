{
 "cells": [
  {
   "cell_type": "markdown",
   "metadata": {},
   "source": [
    "## Imports"
   ]
  },
  {
   "cell_type": "code",
   "execution_count": 2,
   "metadata": {},
   "outputs": [],
   "source": [
    "import pandas as pd\n",
    "import numpy as np\n",
    "\n",
    "from sklearn.model_selection import train_test_split\n",
    "\n",
    "from sklearn.linear_model import *\n",
    "from sklearn.ensemble import *\n",
    "from sklearn.preprocessing import PolynomialFeatures, MinMaxScaler\n",
    "from sklearn.neighbors import KNeighborsClassifier\n",
    "from sklearn import svm\n",
    "\n",
    "from sklearn.pipeline import make_pipeline\n",
    "from sklearn.preprocessing import *\n",
    "\n",
    "from sklearn.metrics import mean_squared_error, r2_score\n",
    "from datetime import datetime\n",
    "import math\n",
    "\n",
    "lookup_df = pd.read_csv(\"zone_lookup.csv\")\n",
    "\n",
    "DATEPARSE = \"%Y-%m-%d %H:%M:%S\""
   ]
  },
  {
   "cell_type": "markdown",
   "metadata": {},
   "source": [
    "# Read data\n",
    "### Add data into /taxi_data/\n",
    "### Github stores a sample file of this. Download the rest and do the same."
   ]
  },
  {
   "cell_type": "code",
   "execution_count": 3,
   "metadata": {},
   "outputs": [],
   "source": [
    "def time_to_minutes(_today):\n",
    "    return (_today.hour*60) + (_today.minute)\n",
    "def add_zero_padding(number):\n",
    "    if len(str(number)) == 1: return \"0\" + str(number)\n",
    "    else: return number\n",
    "def format_df(DF, pickup_date_column, dropof_date_column, month):\n",
    "    #Clean some rows where the location id is invalid\n",
    "    DF = DF[((DF[\"PULocationID\"] != 264) & (DF[\"PULocationID\"] != 265)) & ((DF[\"DOLocationID\"] != 264) & (DF[\"DOLocationID\"] != 265))]\n",
    "\n",
    "    start = pd.to_datetime(DF[pickup_date_column])\n",
    "    stop = pd.to_datetime(DF[dropof_date_column])\n",
    "    DF['travel_time'] = (stop - start).astype('timedelta64[m]').astype('int64')\n",
    "\n",
    "    DF = DF[(DF[\"travel_time\"] < 5*60)]\n",
    "\n",
    "    DF['PU_start'] = (start).dt.hour\n",
    "\n",
    "    DF['PUlat'] = DF.PULocationID.map(lookup_df.set_index('LocationID').lat)\n",
    "    DF['PUlong'] = DF.PULocationID.map(lookup_df.set_index('LocationID').long)\n",
    "    DF['DOlat'] = DF.DOLocationID.map(lookup_df.set_index('LocationID').lat)\n",
    "    DF['DOlong'] = DF.DOLocationID.map(lookup_df.set_index('LocationID').long)\n",
    "\n",
    "    DF['distance'] = ((DF.PUlat - DF.DOlat) ** 2 + (DF.PUlong - DF.DOlong) ** 2) ** 0.5\n",
    "\n",
    "    DF = DF.drop(columns=[dropof_date_column, pickup_date_column])\n",
    "    return DF"
   ]
  },
  {
   "cell_type": "code",
   "execution_count": 4,
   "metadata": {},
   "outputs": [
    {
     "name": "stdout",
     "output_type": "stream",
     "text": [
      "Reading csv: 1\n",
      "Formating csv\n",
      "Writing csv\n",
      "DONE: 1\n",
      "Reading csv: 2\n"
     ]
    }
   ],
   "source": [
    "#dataset = (\"taxi_data/green_tripdata_2019\", \"l\")\n",
    "dataset = (\"taxi_data/yellow_tripdata_2019\", \"t\")\n",
    "\n",
    "pd.options.mode.chained_assignment = None\n",
    "header = True\n",
    "for x in range(1, 13): # this takes 5 min\n",
    "    try:\n",
    "        print(\"Reading csv: \" + str(x))\n",
    "        dfGreen = pd.read_csv(dataset[0] + \"-\" + str(add_zero_padding(x)) + \".csv\", usecols=[\"PULocationID\", \"DOLocationID\", dataset[1] + \"pep_pickup_datetime\", dataset[1] + \"pep_dropoff_datetime\"])\n",
    "        print(\"Formating csv\")\n",
    "        dfGreen = format_df(dfGreen, dataset[1] + \"pep_pickup_datetime\", dataset[1] + \"pep_dropoff_datetime\", x)\n",
    "        print(\"Writing csv\")\n",
    "        dfGreen.to_csv(dataset[0] + \"_concat_remove_5_hour_drives.csv\", mode='a+', header=header, index=False)\n",
    "        header=False\n",
    "        print(\"DONE: \" + str(x))\n",
    "    except Exception as f:\n",
    "        print(f)\n",
    "pd.options.mode.chained_assignment = \"warn\""
   ]
  },
  {
   "cell_type": "markdown",
   "metadata": {},
   "source": [
    "# Train"
   ]
  },
  {
   "cell_type": "code",
   "execution_count": 20,
   "metadata": {},
   "outputs": [
    {
     "ename": "MemoryError",
     "evalue": "Unable to allocate 26.1 GiB for an array with shape (700000, 5004) and data type float64",
     "output_type": "error",
     "traceback": [
      "\u001b[1;31m---------------------------------------------------------------------------\u001b[0m",
      "\u001b[1;31mMemoryError\u001b[0m                               Traceback (most recent call last)",
      "\u001b[1;32mc:\\Users\\rackaracka\\Documents\\repos\\ML\\Labb3\\Predict travel time.ipynb Cell 7'\u001b[0m in \u001b[0;36m<module>\u001b[1;34m\u001b[0m\n\u001b[0;32m     <a href='vscode-notebook-cell:/c%3A/Users/rackaracka/Documents/repos/ML/Labb3/Predict%20travel%20time.ipynb#ch0000007?line=9'>10</a>\u001b[0m X_green \u001b[39m=\u001b[39m chunk[[\u001b[39m\"\u001b[39m\u001b[39mPU_min_of_day\u001b[39m\u001b[39m\"\u001b[39m, \u001b[39m\"\u001b[39m\u001b[39mPUlat\u001b[39m\u001b[39m\"\u001b[39m, \u001b[39m\"\u001b[39m\u001b[39mPUlong\u001b[39m\u001b[39m\"\u001b[39m,\u001b[39m\"\u001b[39m\u001b[39mDOlat\u001b[39m\u001b[39m\"\u001b[39m, \u001b[39m\"\u001b[39m\u001b[39mDOlong\u001b[39m\u001b[39m\"\u001b[39m, \u001b[39m\"\u001b[39m\u001b[39mdistance\u001b[39m\u001b[39m\"\u001b[39m]] \u001b[39m# input cols\u001b[39;00m\n\u001b[0;32m     <a href='vscode-notebook-cell:/c%3A/Users/rackaracka/Documents/repos/ML/Labb3/Predict%20travel%20time.ipynb#ch0000007?line=10'>11</a>\u001b[0m y_green \u001b[39m=\u001b[39m chunk[[\u001b[39m\"\u001b[39m\u001b[39mtravel_time\u001b[39m\u001b[39m\"\u001b[39m]] \u001b[39m# output cols\u001b[39;00m\n\u001b[1;32m---> <a href='vscode-notebook-cell:/c%3A/Users/rackaracka/Documents/repos/ML/Labb3/Predict%20travel%20time.ipynb#ch0000007?line=12'>13</a>\u001b[0m scaled \u001b[39m=\u001b[39m poly\u001b[39m.\u001b[39;49mfit_transform(min_max\u001b[39m.\u001b[39;49mfit_transform(X_green\u001b[39m.\u001b[39;49mvalues))\n\u001b[0;32m     <a href='vscode-notebook-cell:/c%3A/Users/rackaracka/Documents/repos/ML/Labb3/Predict%20travel%20time.ipynb#ch0000007?line=14'>15</a>\u001b[0m X_train, X_test, y_train, y_test \u001b[39m=\u001b[39m train_test_split(scaled, y_green\u001b[39m.\u001b[39mvalues\u001b[39m.\u001b[39mravel(), test_size \u001b[39m=\u001b[39m \u001b[39m0.25\u001b[39m)\n\u001b[0;32m     <a href='vscode-notebook-cell:/c%3A/Users/rackaracka/Documents/repos/ML/Labb3/Predict%20travel%20time.ipynb#ch0000007?line=16'>17</a>\u001b[0m model\u001b[39m.\u001b[39mpartial_fit(X_train, y_train)\n",
      "File \u001b[1;32mC:\\Python310\\lib\\site-packages\\sklearn\\base.py:852\u001b[0m, in \u001b[0;36mTransformerMixin.fit_transform\u001b[1;34m(self, X, y, **fit_params)\u001b[0m\n\u001b[0;32m    <a href='file:///c%3A/Python310/lib/site-packages/sklearn/base.py?line=847'>848</a>\u001b[0m \u001b[39m# non-optimized default implementation; override when a better\u001b[39;00m\n\u001b[0;32m    <a href='file:///c%3A/Python310/lib/site-packages/sklearn/base.py?line=848'>849</a>\u001b[0m \u001b[39m# method is possible for a given clustering algorithm\u001b[39;00m\n\u001b[0;32m    <a href='file:///c%3A/Python310/lib/site-packages/sklearn/base.py?line=849'>850</a>\u001b[0m \u001b[39mif\u001b[39;00m y \u001b[39mis\u001b[39;00m \u001b[39mNone\u001b[39;00m:\n\u001b[0;32m    <a href='file:///c%3A/Python310/lib/site-packages/sklearn/base.py?line=850'>851</a>\u001b[0m     \u001b[39m# fit method of arity 1 (unsupervised transformation)\u001b[39;00m\n\u001b[1;32m--> <a href='file:///c%3A/Python310/lib/site-packages/sklearn/base.py?line=851'>852</a>\u001b[0m     \u001b[39mreturn\u001b[39;00m \u001b[39mself\u001b[39;49m\u001b[39m.\u001b[39;49mfit(X, \u001b[39m*\u001b[39;49m\u001b[39m*\u001b[39;49mfit_params)\u001b[39m.\u001b[39;49mtransform(X)\n\u001b[0;32m    <a href='file:///c%3A/Python310/lib/site-packages/sklearn/base.py?line=852'>853</a>\u001b[0m \u001b[39melse\u001b[39;00m:\n\u001b[0;32m    <a href='file:///c%3A/Python310/lib/site-packages/sklearn/base.py?line=853'>854</a>\u001b[0m     \u001b[39m# fit method of arity 2 (supervised transformation)\u001b[39;00m\n\u001b[0;32m    <a href='file:///c%3A/Python310/lib/site-packages/sklearn/base.py?line=854'>855</a>\u001b[0m     \u001b[39mreturn\u001b[39;00m \u001b[39mself\u001b[39m\u001b[39m.\u001b[39mfit(X, y, \u001b[39m*\u001b[39m\u001b[39m*\u001b[39mfit_params)\u001b[39m.\u001b[39mtransform(X)\n",
      "File \u001b[1;32mC:\\Python310\\lib\\site-packages\\sklearn\\preprocessing\\_polynomial.py:421\u001b[0m, in \u001b[0;36mPolynomialFeatures.transform\u001b[1;34m(self, X)\u001b[0m\n\u001b[0;32m    <a href='file:///c%3A/Python310/lib/site-packages/sklearn/preprocessing/_polynomial.py?line=416'>417</a>\u001b[0m     XP \u001b[39m=\u001b[39m sparse\u001b[39m.\u001b[39mhstack(columns, dtype\u001b[39m=\u001b[39mX\u001b[39m.\u001b[39mdtype)\u001b[39m.\u001b[39mtocsc()\n\u001b[0;32m    <a href='file:///c%3A/Python310/lib/site-packages/sklearn/preprocessing/_polynomial.py?line=417'>418</a>\u001b[0m \u001b[39melse\u001b[39;00m:\n\u001b[0;32m    <a href='file:///c%3A/Python310/lib/site-packages/sklearn/preprocessing/_polynomial.py?line=418'>419</a>\u001b[0m     \u001b[39m# Do as if _min_degree = 0 and cut down array after the\u001b[39;00m\n\u001b[0;32m    <a href='file:///c%3A/Python310/lib/site-packages/sklearn/preprocessing/_polynomial.py?line=419'>420</a>\u001b[0m     \u001b[39m# computation, i.e. use _n_out_full instead of n_output_features_.\u001b[39;00m\n\u001b[1;32m--> <a href='file:///c%3A/Python310/lib/site-packages/sklearn/preprocessing/_polynomial.py?line=420'>421</a>\u001b[0m     XP \u001b[39m=\u001b[39m np\u001b[39m.\u001b[39;49mempty(\n\u001b[0;32m    <a href='file:///c%3A/Python310/lib/site-packages/sklearn/preprocessing/_polynomial.py?line=421'>422</a>\u001b[0m         shape\u001b[39m=\u001b[39;49m(n_samples, \u001b[39mself\u001b[39;49m\u001b[39m.\u001b[39;49m_n_out_full), dtype\u001b[39m=\u001b[39;49mX\u001b[39m.\u001b[39;49mdtype, order\u001b[39m=\u001b[39;49m\u001b[39mself\u001b[39;49m\u001b[39m.\u001b[39;49morder\n\u001b[0;32m    <a href='file:///c%3A/Python310/lib/site-packages/sklearn/preprocessing/_polynomial.py?line=422'>423</a>\u001b[0m     )\n\u001b[0;32m    <a href='file:///c%3A/Python310/lib/site-packages/sklearn/preprocessing/_polynomial.py?line=424'>425</a>\u001b[0m     \u001b[39m# What follows is a faster implementation of:\u001b[39;00m\n\u001b[0;32m    <a href='file:///c%3A/Python310/lib/site-packages/sklearn/preprocessing/_polynomial.py?line=425'>426</a>\u001b[0m     \u001b[39m# for i, comb in enumerate(combinations):\u001b[39;00m\n\u001b[0;32m    <a href='file:///c%3A/Python310/lib/site-packages/sklearn/preprocessing/_polynomial.py?line=426'>427</a>\u001b[0m     \u001b[39m#     XP[:, i] = X[:, comb].prod(1)\u001b[39;00m\n\u001b[1;32m   (...)\u001b[0m\n\u001b[0;32m    <a href='file:///c%3A/Python310/lib/site-packages/sklearn/preprocessing/_polynomial.py?line=436'>437</a>\u001b[0m \n\u001b[0;32m    <a href='file:///c%3A/Python310/lib/site-packages/sklearn/preprocessing/_polynomial.py?line=437'>438</a>\u001b[0m     \u001b[39m# degree 0 term\u001b[39;00m\n\u001b[0;32m    <a href='file:///c%3A/Python310/lib/site-packages/sklearn/preprocessing/_polynomial.py?line=438'>439</a>\u001b[0m     \u001b[39mif\u001b[39;00m \u001b[39mself\u001b[39m\u001b[39m.\u001b[39minclude_bias:\n",
      "\u001b[1;31mMemoryError\u001b[0m: Unable to allocate 26.1 GiB for an array with shape (700000, 5004) and data type float64"
     ]
    }
   ],
   "source": [
    "#dfGreen = pd.read_csv(\"taxi_data/green_tripdata_2019_concat.csv\", chunksize=50000)\n",
    "dfYellow = pd.read_csv(\"taxi_data/yellow_tripdata_2019_concat.csv\", chunksize=700000)\n",
    "\n",
    "model = SGDRegressor()\n",
    "\n",
    "poly = PolynomialFeatures(degree=9, include_bias=False)\n",
    "min_max = MinMaxScaler()\n",
    "\n",
    "for chunk in dfYellow:\n",
    "    X_green = chunk[[\"PU_min_of_day\", \"PUlat\", \"PUlong\",\"DOlat\", \"DOlong\"]] # input cols\n",
    "    y_green = chunk[[\"travel_time\"]] # output cols\n",
    "    \n",
    "    scaled = poly.fit_transform(min_max.fit_transform(X_green.values))\n",
    "\n",
    "    X_train, X_test, y_train, y_test = train_test_split(scaled, y_green.values.ravel(), test_size = 0.25)\n",
    "\n",
    "    model.partial_fit(X_train, y_train)\n",
    "\n",
    "    y_pred = model.predict(X_test)\n",
    "    \n",
    "    print(\"Mean squared error: %.2f\" % mean_squared_error(y_test, y_pred))\n",
    "    print(\"Coefficient of determination: %.2f\" % r2_score(y_test, y_pred))"
   ]
  },
  {
   "cell_type": "code",
   "execution_count": 8,
   "metadata": {},
   "outputs": [
    {
     "name": "stdout",
     "output_type": "stream",
     "text": [
      "[2985.58207469]\n"
     ]
    }
   ],
   "source": [
    "\"\"\"\n",
    "lpep_pickup_datetime,PULocationID,DOLocationID,month\n",
    "\"\"\"\n",
    "copied_from_green = [2949,2964,166,142,13.7648363727615,1.0]\n",
    "\n",
    "inputdata = [copied_from_green[0], copied_from_green[2], copied_from_green[3], copied_from_green[4], copied_from_green[5]]\n",
    "outputdata = [copied_from_green[1]]\n",
    "\n",
    "inputdata = [5469,41,74,1.0]\n",
    "outputdata = [5475]\n",
    "pred = model.predict([\n",
    "    inputdata\n",
    "])\n",
    "\n",
    "print(pred)"
   ]
  }
 ],
 "metadata": {
  "interpreter": {
   "hash": "2be5faf79681da6f2a61fdfdd5405d65d042280f7fba6178067603e3a2925119"
  },
  "kernelspec": {
   "display_name": "Python 3.10.0 64-bit",
   "language": "python",
   "name": "python3"
  },
  "language_info": {
   "codemirror_mode": {
    "name": "ipython",
    "version": 3
   },
   "file_extension": ".py",
   "mimetype": "text/x-python",
   "name": "python",
   "nbconvert_exporter": "python",
   "pygments_lexer": "ipython3",
   "version": "3.10.0"
  },
  "orig_nbformat": 4
 },
 "nbformat": 4,
 "nbformat_minor": 2
}
