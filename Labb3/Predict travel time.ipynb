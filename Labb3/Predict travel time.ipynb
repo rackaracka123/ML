{
 "cells": [
  {
   "cell_type": "markdown",
   "metadata": {},
   "source": [
    "## Imports"
   ]
  },
  {
   "cell_type": "code",
   "execution_count": 2,
   "metadata": {},
   "outputs": [],
   "source": [
    "import pandas as pd\n",
    "import numpy as np\n",
    "\n",
    "from sklearn.model_selection import train_test_split\n",
    "\n",
    "from sklearn.linear_model import LinearRegression, LogisticRegression, SGDClassifier, BayesianRidge\n",
    "from sklearn.preprocessing import PolynomialFeatures\n",
    "from sklearn.neighbors import KNeighborsClassifier\n",
    "from sklearn import svm\n",
    "\n",
    "from sklearn.metrics import mean_squared_error, r2_score\n",
    "from datetime import datetime\n",
    "\n",
    "DATEPARSE = \"%Y-%m-%d %H:%M:%S\""
   ]
  },
  {
   "cell_type": "markdown",
   "metadata": {},
   "source": [
    "# Read data\n",
    "### Add data into /taxi_data/\n",
    "### Github stores a sample file of this. Download the rest and do the same."
   ]
  },
  {
   "cell_type": "code",
   "execution_count": 27,
   "metadata": {},
   "outputs": [],
   "source": [
    "def add_zero_padding(number):\n",
    "    if len(str(number)) == 1: return \"0\" + str(number)\n",
    "    else: return number\n",
    "def format_df(DF, pickup_date_column, dropof_date_column):\n",
    "    for i, x in DF.iterrows():\n",
    "        DF.at[i,\"month\"] = 1\n",
    "        start = datetime.strptime(x[pickup_date_column], DATEPARSE).time()\n",
    "        stop = datetime.strptime(x[dropof_date_column], DATEPARSE).time()\n",
    "\n",
    "        DF.at[i, pickup_date_column] = (start.hour * 60 + start.minute)\n",
    "        DF.at[i, dropof_date_column] = (stop.hour * 60 + stop.minute)\n",
    "        DF.at[i, \"travel_time\"] = (start.hour * 60 + start.minute) - (stop.hour * 60 + stop.minute)\n",
    "    return DF"
   ]
  },
  {
   "cell_type": "code",
   "execution_count": 28,
   "metadata": {},
   "outputs": [
    {
     "name": "stdout",
     "output_type": "stream",
     "text": [
      "unsupported operand type(s) for -: 'datetime.time' and 'datetime.time'\n",
      "unsupported operand type(s) for -: 'datetime.time' and 'datetime.time'\n",
      "[Errno 2] No such file or directory: 'taxi_data\\\\green_tripdata_2019-03.csv'\n",
      "unsupported operand type(s) for -: 'datetime.time' and 'datetime.time'\n"
     ]
    },
    {
     "ename": "KeyboardInterrupt",
     "evalue": "",
     "output_type": "error",
     "traceback": [
      "\u001b[1;31m---------------------------------------------------------------------------\u001b[0m",
      "\u001b[1;31mKeyboardInterrupt\u001b[0m                         Traceback (most recent call last)",
      "\u001b[1;32mc:\\Users\\rackaracka\\Documents\\repos\\ML\\Labb3\\Predict travel time.ipynb Cell 5'\u001b[0m in \u001b[0;36m<module>\u001b[1;34m\u001b[0m\n\u001b[0;32m      <a href='vscode-notebook-cell:/c%3A/Users/rackaracka/Documents/repos/ML/Labb3/Predict%20travel%20time.ipynb#ch0000004?line=3'>4</a>\u001b[0m \u001b[39mtry\u001b[39;00m:\n\u001b[0;32m      <a href='vscode-notebook-cell:/c%3A/Users/rackaracka/Documents/repos/ML/Labb3/Predict%20travel%20time.ipynb#ch0000004?line=4'>5</a>\u001b[0m     dfGreen \u001b[39m=\u001b[39m pd\u001b[39m.\u001b[39mread_csv(\u001b[39m\"\u001b[39m\u001b[39mtaxi_data\u001b[39m\u001b[39m\\\u001b[39m\u001b[39mgreen_tripdata_2019-\u001b[39m\u001b[39m\"\u001b[39m \u001b[39m+\u001b[39m \u001b[39mstr\u001b[39m(add_zero_padding(x)) \u001b[39m+\u001b[39m \u001b[39m\"\u001b[39m\u001b[39m.csv\u001b[39m\u001b[39m\"\u001b[39m, usecols\u001b[39m=\u001b[39m[\u001b[39m\"\u001b[39m\u001b[39mPULocationID\u001b[39m\u001b[39m\"\u001b[39m, \u001b[39m\"\u001b[39m\u001b[39mDOLocationID\u001b[39m\u001b[39m\"\u001b[39m, \u001b[39m\"\u001b[39m\u001b[39mlpep_pickup_datetime\u001b[39m\u001b[39m\"\u001b[39m, \u001b[39m\"\u001b[39m\u001b[39mlpep_dropoff_datetime\u001b[39m\u001b[39m\"\u001b[39m])\n\u001b[1;32m----> <a href='vscode-notebook-cell:/c%3A/Users/rackaracka/Documents/repos/ML/Labb3/Predict%20travel%20time.ipynb#ch0000004?line=5'>6</a>\u001b[0m     dfGreen \u001b[39m=\u001b[39m format_df(dfGreen, \u001b[39m\"\u001b[39;49m\u001b[39mlpep_pickup_datetime\u001b[39;49m\u001b[39m\"\u001b[39;49m, \u001b[39m\"\u001b[39;49m\u001b[39mlpep_dropoff_datetime\u001b[39;49m\u001b[39m\"\u001b[39;49m)\n\u001b[0;32m      <a href='vscode-notebook-cell:/c%3A/Users/rackaracka/Documents/repos/ML/Labb3/Predict%20travel%20time.ipynb#ch0000004?line=6'>7</a>\u001b[0m     dfGreen\u001b[39m.\u001b[39mto_csv(\u001b[39m\"\u001b[39m\u001b[39mtaxi_data\u001b[39m\u001b[39m\\\u001b[39m\u001b[39mgreen_tripdata_2019_concat.csv\u001b[39m\u001b[39m\"\u001b[39m, mode\u001b[39m=\u001b[39m\u001b[39m'\u001b[39m\u001b[39ma+\u001b[39m\u001b[39m'\u001b[39m, header\u001b[39m=\u001b[39mheader, index\u001b[39m=\u001b[39m\u001b[39mFalse\u001b[39;00m)\n\u001b[0;32m      <a href='vscode-notebook-cell:/c%3A/Users/rackaracka/Documents/repos/ML/Labb3/Predict%20travel%20time.ipynb#ch0000004?line=7'>8</a>\u001b[0m     header\u001b[39m=\u001b[39m\u001b[39mFalse\u001b[39;00m\n",
      "\u001b[1;32mc:\\Users\\rackaracka\\Documents\\repos\\ML\\Labb3\\Predict travel time.ipynb Cell 4'\u001b[0m in \u001b[0;36mformat_df\u001b[1;34m(DF, pickup_date_column, dropof_date_column)\u001b[0m\n\u001b[0;32m      <a href='vscode-notebook-cell:/c%3A/Users/rackaracka/Documents/repos/ML/Labb3/Predict%20travel%20time.ipynb#ch0000003?line=6'>7</a>\u001b[0m start \u001b[39m=\u001b[39m datetime\u001b[39m.\u001b[39mstrptime(x[pickup_date_column], DATEPARSE)\u001b[39m.\u001b[39mtime()\n\u001b[0;32m      <a href='vscode-notebook-cell:/c%3A/Users/rackaracka/Documents/repos/ML/Labb3/Predict%20travel%20time.ipynb#ch0000003?line=7'>8</a>\u001b[0m stop \u001b[39m=\u001b[39m datetime\u001b[39m.\u001b[39mstrptime(x[dropof_date_column], DATEPARSE)\u001b[39m.\u001b[39mtime()\n\u001b[1;32m---> <a href='vscode-notebook-cell:/c%3A/Users/rackaracka/Documents/repos/ML/Labb3/Predict%20travel%20time.ipynb#ch0000003?line=9'>10</a>\u001b[0m DF\u001b[39m.\u001b[39mat[i, pickup_date_column] \u001b[39m=\u001b[39m (start\u001b[39m.\u001b[39mhour \u001b[39m*\u001b[39m \u001b[39m60\u001b[39m \u001b[39m+\u001b[39m start\u001b[39m.\u001b[39mminute)\n\u001b[0;32m     <a href='vscode-notebook-cell:/c%3A/Users/rackaracka/Documents/repos/ML/Labb3/Predict%20travel%20time.ipynb#ch0000003?line=10'>11</a>\u001b[0m DF\u001b[39m.\u001b[39mat[i, dropof_date_column] \u001b[39m=\u001b[39m (stop\u001b[39m.\u001b[39mhour \u001b[39m*\u001b[39m \u001b[39m60\u001b[39m \u001b[39m+\u001b[39m stop\u001b[39m.\u001b[39mminute)\n\u001b[0;32m     <a href='vscode-notebook-cell:/c%3A/Users/rackaracka/Documents/repos/ML/Labb3/Predict%20travel%20time.ipynb#ch0000003?line=11'>12</a>\u001b[0m DF\u001b[39m.\u001b[39mat[i, \u001b[39m\"\u001b[39m\u001b[39mtravel_time\u001b[39m\u001b[39m\"\u001b[39m] \u001b[39m=\u001b[39m stop \u001b[39m-\u001b[39m start\n",
      "File \u001b[1;32mC:\\Python310\\lib\\site-packages\\pandas\\core\\indexing.py:2286\u001b[0m, in \u001b[0;36m_AtIndexer.__setitem__\u001b[1;34m(self, key, value)\u001b[0m\n\u001b[0;32m   <a href='file:///c%3A/Python310/lib/site-packages/pandas/core/indexing.py?line=2282'>2283</a>\u001b[0m     \u001b[39mself\u001b[39m\u001b[39m.\u001b[39mobj\u001b[39m.\u001b[39mloc[key] \u001b[39m=\u001b[39m value\n\u001b[0;32m   <a href='file:///c%3A/Python310/lib/site-packages/pandas/core/indexing.py?line=2283'>2284</a>\u001b[0m     \u001b[39mreturn\u001b[39;00m\n\u001b[1;32m-> <a href='file:///c%3A/Python310/lib/site-packages/pandas/core/indexing.py?line=2285'>2286</a>\u001b[0m \u001b[39mreturn\u001b[39;00m \u001b[39msuper\u001b[39;49m()\u001b[39m.\u001b[39;49m\u001b[39m__setitem__\u001b[39;49m(key, value)\n",
      "File \u001b[1;32mC:\\Python310\\lib\\site-packages\\pandas\\core\\indexing.py:2237\u001b[0m, in \u001b[0;36m_ScalarAccessIndexer.__setitem__\u001b[1;34m(self, key, value)\u001b[0m\n\u001b[0;32m   <a href='file:///c%3A/Python310/lib/site-packages/pandas/core/indexing.py?line=2233'>2234</a>\u001b[0m \u001b[39mif\u001b[39;00m \u001b[39mlen\u001b[39m(key) \u001b[39m!=\u001b[39m \u001b[39mself\u001b[39m\u001b[39m.\u001b[39mndim:\n\u001b[0;32m   <a href='file:///c%3A/Python310/lib/site-packages/pandas/core/indexing.py?line=2234'>2235</a>\u001b[0m     \u001b[39mraise\u001b[39;00m \u001b[39mValueError\u001b[39;00m(\u001b[39m\"\u001b[39m\u001b[39mNot enough indexers for scalar access (setting)!\u001b[39m\u001b[39m\"\u001b[39m)\n\u001b[1;32m-> <a href='file:///c%3A/Python310/lib/site-packages/pandas/core/indexing.py?line=2236'>2237</a>\u001b[0m \u001b[39mself\u001b[39;49m\u001b[39m.\u001b[39;49mobj\u001b[39m.\u001b[39;49m_set_value(\u001b[39m*\u001b[39;49mkey, value\u001b[39m=\u001b[39;49mvalue, takeable\u001b[39m=\u001b[39;49m\u001b[39mself\u001b[39;49m\u001b[39m.\u001b[39;49m_takeable)\n",
      "File \u001b[1;32mC:\\Python310\\lib\\site-packages\\pandas\\core\\frame.py:3823\u001b[0m, in \u001b[0;36mDataFrame._set_value\u001b[1;34m(self, index, col, value, takeable)\u001b[0m\n\u001b[0;32m   <a href='file:///c%3A/Python310/lib/site-packages/pandas/core/frame.py?line=3820'>3821</a>\u001b[0m series \u001b[39m=\u001b[39m \u001b[39mself\u001b[39m\u001b[39m.\u001b[39m_get_item_cache(col)\n\u001b[0;32m   <a href='file:///c%3A/Python310/lib/site-packages/pandas/core/frame.py?line=3821'>3822</a>\u001b[0m engine \u001b[39m=\u001b[39m \u001b[39mself\u001b[39m\u001b[39m.\u001b[39mindex\u001b[39m.\u001b[39m_engine\n\u001b[1;32m-> <a href='file:///c%3A/Python310/lib/site-packages/pandas/core/frame.py?line=3822'>3823</a>\u001b[0m loc \u001b[39m=\u001b[39m engine\u001b[39m.\u001b[39;49mget_loc(index)\n\u001b[0;32m   <a href='file:///c%3A/Python310/lib/site-packages/pandas/core/frame.py?line=3823'>3824</a>\u001b[0m validate_numeric_casting(series\u001b[39m.\u001b[39mdtype, value)\n\u001b[0;32m   <a href='file:///c%3A/Python310/lib/site-packages/pandas/core/frame.py?line=3825'>3826</a>\u001b[0m series\u001b[39m.\u001b[39m_values[loc] \u001b[39m=\u001b[39m value\n",
      "\u001b[1;31mKeyboardInterrupt\u001b[0m: "
     ]
    }
   ],
   "source": [
    "#GREEN\n",
    "header = True\n",
    "for x in range(1, 13): # this takes 14 min\n",
    "    try:\n",
    "        dfGreen = pd.read_csv(\"taxi_data\\green_tripdata_2019-\" + str(add_zero_padding(x)) + \".csv\", usecols=[\"PULocationID\", \"DOLocationID\", \"lpep_pickup_datetime\", \"lpep_dropoff_datetime\"])\n",
    "        dfGreen = format_df(dfGreen, \"lpep_pickup_datetime\", \"lpep_dropoff_datetime\")\n",
    "        dfGreen.to_csv(\"taxi_data\\green_tripdata_2019_concat.csv\", mode='a+', header=header, index=False)\n",
    "        header=False\n",
    "        print(\"GREEN: \" + str(x))\n",
    "    except Exception as f:\n",
    "        print(f)\n",
    "\n",
    "\"\"\"\n",
    "# YELLOW\n",
    "header = True\n",
    "for x in range(1, 13):\n",
    "    try:\n",
    "        dfYellow = pd.read_csv(\"taxi_data\\yellow_tripdata_2019-\" + str(add_zero_padding(x)) + \".csv\")\n",
    "        dfYellow = format_df(dfYellow, \"tpep_pickup_datetime\", \"tpep_dropoff_datetime\")\n",
    "        dfYellow.to_csv(\"taxi_data\\yellow_tripdata_2019_concat.csv\", mode='a+', header=header, index=False)\n",
    "        header=False\n",
    "        print(\"YELLOW: \" + str(x))\n",
    "    except Exception as f:\n",
    "        print(f)\n",
    "\"\"\""
   ]
  },
  {
   "cell_type": "markdown",
   "metadata": {},
   "source": [
    "# Train"
   ]
  },
  {
   "cell_type": "code",
   "execution_count": 11,
   "metadata": {},
   "outputs": [
    {
     "name": "stdout",
     "output_type": "stream",
     "text": [
      "       lpep_pickup_datetime  lpep_dropoff_datetime  PULocationID  \\\n",
      "0              3.754394e+09           3.754394e+09           264   \n",
      "1              3.755290e+09           3.755291e+09            97   \n",
      "2              3.755291e+09           3.755291e+09            49   \n",
      "3              3.755292e+09           3.755293e+09           189   \n",
      "4              3.755291e+09           3.755292e+09            82   \n",
      "...                     ...                    ...           ...   \n",
      "99995          3.755757e+09           3.755758e+09           130   \n",
      "99996          3.755755e+09           3.755757e+09           218   \n",
      "99997          3.755754e+09           3.755756e+09           139   \n",
      "99998          3.755757e+09           3.755758e+09            72   \n",
      "99999          3.755758e+09           3.755759e+09            89   \n",
      "\n",
      "       DOLocationID  month  travel_time  \n",
      "0               264    1.0         88.0  \n",
      "1                49    1.0        376.0  \n",
      "2               189    1.0        267.0  \n",
      "3                17    1.0       1114.0  \n",
      "4               258    1.0       1237.0  \n",
      "...             ...    ...          ...  \n",
      "99995           216    1.0        321.0  \n",
      "99996            16    1.0       2389.0  \n",
      "99997           188    1.0       2136.0  \n",
      "99998           188    1.0        573.0  \n",
      "99999           225    1.0       1529.0  \n",
      "\n",
      "[100000 rows x 6 columns]\n"
     ]
    },
    {
     "ename": "KeyError",
     "evalue": "0",
     "output_type": "error",
     "traceback": [
      "\u001b[1;31m---------------------------------------------------------------------------\u001b[0m",
      "\u001b[1;31mKeyError\u001b[0m                                  Traceback (most recent call last)",
      "File \u001b[1;32mC:\\Python310\\lib\\site-packages\\pandas\\core\\indexes\\base.py:3361\u001b[0m, in \u001b[0;36mIndex.get_loc\u001b[1;34m(self, key, method, tolerance)\u001b[0m\n\u001b[0;32m   <a href='file:///c%3A/Python310/lib/site-packages/pandas/core/indexes/base.py?line=3359'>3360</a>\u001b[0m \u001b[39mtry\u001b[39;00m:\n\u001b[1;32m-> <a href='file:///c%3A/Python310/lib/site-packages/pandas/core/indexes/base.py?line=3360'>3361</a>\u001b[0m     \u001b[39mreturn\u001b[39;00m \u001b[39mself\u001b[39;49m\u001b[39m.\u001b[39;49m_engine\u001b[39m.\u001b[39;49mget_loc(casted_key)\n\u001b[0;32m   <a href='file:///c%3A/Python310/lib/site-packages/pandas/core/indexes/base.py?line=3361'>3362</a>\u001b[0m \u001b[39mexcept\u001b[39;00m \u001b[39mKeyError\u001b[39;00m \u001b[39mas\u001b[39;00m err:\n",
      "File \u001b[1;32mC:\\Python310\\lib\\site-packages\\pandas\\_libs\\index.pyx:76\u001b[0m, in \u001b[0;36mpandas._libs.index.IndexEngine.get_loc\u001b[1;34m()\u001b[0m\n",
      "File \u001b[1;32mC:\\Python310\\lib\\site-packages\\pandas\\_libs\\index.pyx:108\u001b[0m, in \u001b[0;36mpandas._libs.index.IndexEngine.get_loc\u001b[1;34m()\u001b[0m\n",
      "File \u001b[1;32mpandas\\_libs\\hashtable_class_helper.pxi:5198\u001b[0m, in \u001b[0;36mpandas._libs.hashtable.PyObjectHashTable.get_item\u001b[1;34m()\u001b[0m\n",
      "File \u001b[1;32mpandas\\_libs\\hashtable_class_helper.pxi:5206\u001b[0m, in \u001b[0;36mpandas._libs.hashtable.PyObjectHashTable.get_item\u001b[1;34m()\u001b[0m\n",
      "\u001b[1;31mKeyError\u001b[0m: 0",
      "\nThe above exception was the direct cause of the following exception:\n",
      "\u001b[1;31mKeyError\u001b[0m                                  Traceback (most recent call last)",
      "\u001b[1;32mc:\\Users\\rackaracka\\Documents\\repos\\ML\\Labb3\\Predict travel time.ipynb Cell 7'\u001b[0m in \u001b[0;36m<module>\u001b[1;34m\u001b[0m\n\u001b[0;32m      <a href='vscode-notebook-cell:/c%3A/Users/rackaracka/Documents/repos/ML/Labb3/Predict%20travel%20time.ipynb#ch0000006?line=7'>8</a>\u001b[0m X_green \u001b[39m=\u001b[39m chunk[[\u001b[39m\"\u001b[39m\u001b[39mPULocationID\u001b[39m\u001b[39m\"\u001b[39m, \u001b[39m\"\u001b[39m\u001b[39mDOLocationID\u001b[39m\u001b[39m\"\u001b[39m,\u001b[39m\"\u001b[39m\u001b[39mlpep_pickup_datetime\u001b[39m\u001b[39m\"\u001b[39m, \u001b[39m\"\u001b[39m\u001b[39mmonth\u001b[39m\u001b[39m\"\u001b[39m]] \u001b[39m# input cols\u001b[39;00m\n\u001b[0;32m      <a href='vscode-notebook-cell:/c%3A/Users/rackaracka/Documents/repos/ML/Labb3/Predict%20travel%20time.ipynb#ch0000006?line=8'>9</a>\u001b[0m y_green \u001b[39m=\u001b[39m chunk[[\u001b[39m\"\u001b[39m\u001b[39mtravel_time\u001b[39m\u001b[39m\"\u001b[39m]] \u001b[39m# output cols\u001b[39;00m\n\u001b[1;32m---> <a href='vscode-notebook-cell:/c%3A/Users/rackaracka/Documents/repos/ML/Labb3/Predict%20travel%20time.ipynb#ch0000006?line=9'>10</a>\u001b[0m \u001b[39mprint\u001b[39m(X_green[\u001b[39m0\u001b[39;49m])\n\u001b[0;32m     <a href='vscode-notebook-cell:/c%3A/Users/rackaracka/Documents/repos/ML/Labb3/Predict%20travel%20time.ipynb#ch0000006?line=12'>13</a>\u001b[0m X_train, X_test, y_train, y_test \u001b[39m=\u001b[39m train_test_split(X_green, y_green, test_size \u001b[39m=\u001b[39m \u001b[39m0.25\u001b[39m)\n\u001b[0;32m     <a href='vscode-notebook-cell:/c%3A/Users/rackaracka/Documents/repos/ML/Labb3/Predict%20travel%20time.ipynb#ch0000006?line=14'>15</a>\u001b[0m model\u001b[39m.\u001b[39mfit(X_train, y_train)\n",
      "File \u001b[1;32mC:\\Python310\\lib\\site-packages\\pandas\\core\\frame.py:3458\u001b[0m, in \u001b[0;36mDataFrame.__getitem__\u001b[1;34m(self, key)\u001b[0m\n\u001b[0;32m   <a href='file:///c%3A/Python310/lib/site-packages/pandas/core/frame.py?line=3455'>3456</a>\u001b[0m \u001b[39mif\u001b[39;00m \u001b[39mself\u001b[39m\u001b[39m.\u001b[39mcolumns\u001b[39m.\u001b[39mnlevels \u001b[39m>\u001b[39m \u001b[39m1\u001b[39m:\n\u001b[0;32m   <a href='file:///c%3A/Python310/lib/site-packages/pandas/core/frame.py?line=3456'>3457</a>\u001b[0m     \u001b[39mreturn\u001b[39;00m \u001b[39mself\u001b[39m\u001b[39m.\u001b[39m_getitem_multilevel(key)\n\u001b[1;32m-> <a href='file:///c%3A/Python310/lib/site-packages/pandas/core/frame.py?line=3457'>3458</a>\u001b[0m indexer \u001b[39m=\u001b[39m \u001b[39mself\u001b[39;49m\u001b[39m.\u001b[39;49mcolumns\u001b[39m.\u001b[39;49mget_loc(key)\n\u001b[0;32m   <a href='file:///c%3A/Python310/lib/site-packages/pandas/core/frame.py?line=3458'>3459</a>\u001b[0m \u001b[39mif\u001b[39;00m is_integer(indexer):\n\u001b[0;32m   <a href='file:///c%3A/Python310/lib/site-packages/pandas/core/frame.py?line=3459'>3460</a>\u001b[0m     indexer \u001b[39m=\u001b[39m [indexer]\n",
      "File \u001b[1;32mC:\\Python310\\lib\\site-packages\\pandas\\core\\indexes\\base.py:3363\u001b[0m, in \u001b[0;36mIndex.get_loc\u001b[1;34m(self, key, method, tolerance)\u001b[0m\n\u001b[0;32m   <a href='file:///c%3A/Python310/lib/site-packages/pandas/core/indexes/base.py?line=3360'>3361</a>\u001b[0m         \u001b[39mreturn\u001b[39;00m \u001b[39mself\u001b[39m\u001b[39m.\u001b[39m_engine\u001b[39m.\u001b[39mget_loc(casted_key)\n\u001b[0;32m   <a href='file:///c%3A/Python310/lib/site-packages/pandas/core/indexes/base.py?line=3361'>3362</a>\u001b[0m     \u001b[39mexcept\u001b[39;00m \u001b[39mKeyError\u001b[39;00m \u001b[39mas\u001b[39;00m err:\n\u001b[1;32m-> <a href='file:///c%3A/Python310/lib/site-packages/pandas/core/indexes/base.py?line=3362'>3363</a>\u001b[0m         \u001b[39mraise\u001b[39;00m \u001b[39mKeyError\u001b[39;00m(key) \u001b[39mfrom\u001b[39;00m \u001b[39merr\u001b[39;00m\n\u001b[0;32m   <a href='file:///c%3A/Python310/lib/site-packages/pandas/core/indexes/base.py?line=3364'>3365</a>\u001b[0m \u001b[39mif\u001b[39;00m is_scalar(key) \u001b[39mand\u001b[39;00m isna(key) \u001b[39mand\u001b[39;00m \u001b[39mnot\u001b[39;00m \u001b[39mself\u001b[39m\u001b[39m.\u001b[39mhasnans:\n\u001b[0;32m   <a href='file:///c%3A/Python310/lib/site-packages/pandas/core/indexes/base.py?line=3365'>3366</a>\u001b[0m     \u001b[39mraise\u001b[39;00m \u001b[39mKeyError\u001b[39;00m(key)\n",
      "\u001b[1;31mKeyError\u001b[0m: 0"
     ]
    }
   ],
   "source": [
    "dfGreen = pd.read_csv(\"taxi_data\\green_tripdata_2019_concat.csv\", chunksize=100000)\n",
    "\n",
    "model = KNeighborsClassifier(3)\n",
    "\n",
    "first = True\n",
    "for chunk in dfGreen:\n",
    "    print(chunk)\n",
    "    X_green = chunk[[\"PULocationID\", \"DOLocationID\",\"lpep_pickup_datetime\", \"month\"]] # input cols\n",
    "    y_green = chunk[[\"travel_time\"]] # output cols\n",
    "    print(X_green[0])\n",
    "    \n",
    "\n",
    "    X_train, X_test, y_train, y_test = train_test_split(X_green, y_green, test_size = 0.25)\n",
    "\n",
    "    model.fit(X_train, y_train)\n",
    "    y_pred = model.predict(X_test)\n",
    "\n",
    "    print(\"Mean squared error: %.2f\" % mean_squared_error(y_test, y_pred))\n",
    "    print(\"Coefficient of determination: %.2f\" % r2_score(y_test, y_pred))\n",
    "    \n",
    "    break"
   ]
  }
 ],
 "metadata": {
  "interpreter": {
   "hash": "2be5faf79681da6f2a61fdfdd5405d65d042280f7fba6178067603e3a2925119"
  },
  "kernelspec": {
   "display_name": "Python 3.10.0 64-bit",
   "language": "python",
   "name": "python3"
  },
  "language_info": {
   "codemirror_mode": {
    "name": "ipython",
    "version": 3
   },
   "file_extension": ".py",
   "mimetype": "text/x-python",
   "name": "python",
   "nbconvert_exporter": "python",
   "pygments_lexer": "ipython3",
   "version": "3.10.0"
  },
  "orig_nbformat": 4
 },
 "nbformat": 4,
 "nbformat_minor": 2
}
