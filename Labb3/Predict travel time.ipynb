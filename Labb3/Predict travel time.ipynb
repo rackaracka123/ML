{
 "cells": [
  {
   "cell_type": "markdown",
   "metadata": {},
   "source": [
    "## Imports"
   ]
  },
  {
   "cell_type": "code",
   "execution_count": 2,
   "metadata": {},
   "outputs": [],
   "source": [
    "import pandas as pd\n",
    "import numpy as np\n",
    "\n",
    "from sklearn.model_selection import train_test_split\n",
    "\n",
    "from sklearn.linear_model import LinearRegression, LogisticRegression, SGDClassifier, BayesianRidge\n",
    "from sklearn.preprocessing import PolynomialFeatures\n",
    "from sklearn.neighbors import KNeighborsClassifier\n",
    "from sklearn import svm\n",
    "\n",
    "from sklearn.metrics import mean_squared_error, r2_score\n",
    "from datetime import datetime\n",
    "\n",
    "DATEPARSE = \"%Y-%m-%d %H:%M:%S\""
   ]
  },
  {
   "cell_type": "markdown",
   "metadata": {},
   "source": [
    "# Read data\n",
    "### Add data into /taxi_data/\n",
    "### Github stores a sample file of this. Download the rest and do the same."
   ]
  },
  {
   "cell_type": "code",
   "execution_count": 2,
   "metadata": {},
   "outputs": [],
   "source": [
    "def time_to_minutes(_today):\n",
    "    return (_today.weekday()+1) * 24*60 + (_today.hour*60) + (_today.minute)\n",
    "def add_zero_padding(number):\n",
    "    if len(str(number)) == 1: return \"0\" + str(number)\n",
    "    else: return number\n",
    "def format_df(DF, pickup_date_column, dropof_date_column, month):\n",
    "    for i, x in DF.iterrows():\n",
    "        DF.at[i,\"month\"] = month\n",
    "        start = datetime.strptime(x[pickup_date_column], DATEPARSE)\n",
    "        stop = datetime.strptime(x[dropof_date_column], DATEPARSE)\n",
    "\n",
    "        DF.at[i, pickup_date_column] = time_to_minutes(start)\n",
    "        DF.at[i, dropof_date_column] = time_to_minutes(stop)\n",
    "    return DF"
   ]
  },
  {
   "cell_type": "code",
   "execution_count": 3,
   "metadata": {},
   "outputs": [
    {
     "name": "stdout",
     "output_type": "stream",
     "text": [
      "GREEN: 1\n",
      "GREEN: 2\n",
      "[Errno 2] No such file or directory: 'taxi_data\\\\green_tripdata_2019-03.csv'\n",
      "GREEN: 4\n",
      "GREEN: 5\n",
      "GREEN: 6\n",
      "GREEN: 7\n",
      "GREEN: 8\n",
      "GREEN: 9\n",
      "GREEN: 10\n",
      "GREEN: 11\n",
      "GREEN: 12\n"
     ]
    },
    {
     "data": {
      "text/plain": [
       "'\\n# YELLOW\\nheader = True\\nfor x in range(1, 13):\\n    try:\\n        dfYellow = pd.read_csv(\"taxi_data\\\\yellow_tripdata_2019-\" + str(add_zero_padding(x)) + \".csv\")\\n        dfYellow = format_df(dfYellow, \"tpep_pickup_datetime\", \"tpep_dropoff_datetime\")\\n        dfYellow.to_csv(\"taxi_data\\\\yellow_tripdata_2019_concat.csv\", mode=\\'a+\\', header=header, index=False)\\n        header=False\\n        print(\"YELLOW: \" + str(x))\\n    except Exception as f:\\n        print(f)\\n'"
      ]
     },
     "execution_count": 3,
     "metadata": {},
     "output_type": "execute_result"
    }
   ],
   "source": [
    "#GREEN\n",
    "\n",
    "header = True\n",
    "for x in range(1, 13): # this takes 10-15 min\n",
    "    try:\n",
    "        dfGreen = pd.read_csv(\"taxi_data\\green_tripdata_2019-\" + str(add_zero_padding(x)) + \".csv\", usecols=[\"PULocationID\", \"DOLocationID\", \"lpep_pickup_datetime\", \"lpep_dropoff_datetime\"])\n",
    "        dfGreen = format_df(dfGreen, \"lpep_pickup_datetime\", \"lpep_dropoff_datetime\", x)\n",
    "        dfGreen.to_csv(\"taxi_data\\green_tripdata_2019_concat.csv\", mode='a+', header=header, index=False)\n",
    "        header=False\n",
    "        print(\"GREEN: \" + str(x))\n",
    "    except Exception as f:\n",
    "        print(f)\n",
    "\n",
    "\"\"\"\n",
    "# YELLOW\n",
    "header = True\n",
    "for x in range(1, 13):\n",
    "    try:\n",
    "        dfYellow = pd.read_csv(\"taxi_data\\yellow_tripdata_2019-\" + str(add_zero_padding(x)) + \".csv\")\n",
    "        dfYellow = format_df(dfYellow, \"tpep_pickup_datetime\", \"tpep_dropoff_datetime\")\n",
    "        dfYellow.to_csv(\"taxi_data\\yellow_tripdata_2019_concat.csv\", mode='a+', header=header, index=False)\n",
    "        header=False\n",
    "        print(\"YELLOW: \" + str(x))\n",
    "    except Exception as f:\n",
    "        print(f)\n",
    "\"\"\""
   ]
  },
  {
   "cell_type": "markdown",
   "metadata": {},
   "source": [
    "# Train"
   ]
  },
  {
   "cell_type": "code",
   "execution_count": 6,
   "metadata": {},
   "outputs": [
    {
     "name": "stderr",
     "output_type": "stream",
     "text": [
      "C:\\Python310\\lib\\site-packages\\sklearn\\neighbors\\_classification.py:198: DataConversionWarning: A column-vector y was passed when a 1d array was expected. Please change the shape of y to (n_samples,), for example using ravel().\n",
      "  return self._fit(X, y)\n"
     ]
    },
    {
     "name": "stdout",
     "output_type": "stream",
     "text": [
      "Mean squared error: 118555.78\n",
      "Coefficient of determination: 0.98\n"
     ]
    }
   ],
   "source": [
    "dfGreen = pd.read_csv(\"taxi_data\\green_tripdata_2019_concat.csv\", chunksize=1000000)\n",
    "\n",
    "model = KNeighborsClassifier(200)\n",
    "\n",
    "first = True\n",
    "for chunk in dfGreen:\n",
    "    X_green = chunk[[\"lpep_pickup_datetime\", \"PULocationID\", \"DOLocationID\", \"month\"]] # input cols\n",
    "    y_green = chunk[[\"lpep_dropoff_datetime\"]] # output cols\n",
    "    \n",
    "    X_train, X_test, y_train, y_test = train_test_split(X_green.values, y_green.values, test_size = 0.25)\n",
    "    \n",
    "    model.fit(X_train, y_train)\n",
    "    y_pred = model.predict(X_test)\n",
    "    print(\"Mean squared error: %.2f\" % mean_squared_error(y_test, y_pred))\n",
    "    print(\"Coefficient of determination: %.2f\" % r2_score(y_test, y_pred))\n",
    "    break"
   ]
  },
  {
   "cell_type": "code",
   "execution_count": 8,
   "metadata": {},
   "outputs": [
    {
     "name": "stdout",
     "output_type": "stream",
     "text": [
      "[5482]\n"
     ]
    }
   ],
   "source": [
    "\"\"\"\n",
    "lpep_pickup_datetime,PULocationID,DOLocationID,month\n",
    "\"\"\"\n",
    "\n",
    "inputdata = [5469,41,74,1.0]\n",
    "outputdata = [5475]\n",
    "pred = model.predict([\n",
    "    inputdata\n",
    "])\n",
    "\n",
    "print(pred)"
   ]
  }
 ],
 "metadata": {
  "interpreter": {
   "hash": "2be5faf79681da6f2a61fdfdd5405d65d042280f7fba6178067603e3a2925119"
  },
  "kernelspec": {
   "display_name": "Python 3.10.0 64-bit",
   "language": "python",
   "name": "python3"
  },
  "language_info": {
   "codemirror_mode": {
    "name": "ipython",
    "version": 3
   },
   "file_extension": ".py",
   "mimetype": "text/x-python",
   "name": "python",
   "nbconvert_exporter": "python",
   "pygments_lexer": "ipython3",
   "version": "3.10.0"
  },
  "orig_nbformat": 4
 },
 "nbformat": 4,
 "nbformat_minor": 2
}
