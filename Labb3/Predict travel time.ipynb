{
 "cells": [
  {
   "cell_type": "markdown",
   "metadata": {},
   "source": [
    "## Imports"
   ]
  },
  {
   "cell_type": "code",
   "execution_count": 1,
   "metadata": {},
   "outputs": [],
   "source": [
    "import pandas as pd\n",
    "import numpy as np\n",
    "\n",
    "from sklearn.model_selection import train_test_split\n",
    "\n",
    "from sklearn.linear_model import LinearRegression, LogisticRegression, SGDClassifier, BayesianRidge\n",
    "from sklearn.preprocessing import PolynomialFeatures\n",
    "from sklearn.neighbors import KNeighborsClassifier\n",
    "from skmultiflow.lazy import KNNClassifier\n",
    "from sklearn import svm\n",
    "\n",
    "from sklearn.metrics import mean_squared_error, r2_score\n",
    "from datetime import datetime\n",
    "\n",
    "DATEPARSE = \"%Y-%m-%d %H:%M:%S\""
   ]
  },
  {
   "cell_type": "markdown",
   "metadata": {},
   "source": [
    "# Read data\n",
    "### Add data into /taxi_data/\n",
    "### Github stores a sample file of this. Download the rest and do the same."
   ]
  },
  {
   "cell_type": "code",
   "execution_count": 15,
   "metadata": {},
   "outputs": [],
   "source": [
    "def time_to_minutes(_today):\n",
    "    return (_today.weekday()+1) * 24*60 + (_today.hour*60) + (_today.minute)\n",
    "def add_zero_padding(number):\n",
    "    if len(str(number)) == 1: return \"0\" + str(number)\n",
    "    else: return number\n",
    "def format_df(DF, pickup_date_column, dropof_date_column, month):\n",
    "    for i, x in DF.iterrows():\n",
    "        DF.at[i,\"month\"] = month\n",
    "        start = datetime.strptime(x[pickup_date_column], DATEPARSE)\n",
    "        stop = datetime.strptime(x[dropof_date_column], DATEPARSE)\n",
    "\n",
    "        DF.at[i, pickup_date_column] = time_to_minutes(start)\n",
    "        DF.at[i, dropof_date_column] = time_to_minutes(stop)\n",
    "    return DF"
   ]
  },
  {
   "cell_type": "code",
   "execution_count": 16,
   "metadata": {},
   "outputs": [
    {
     "name": "stdout",
     "output_type": "stream",
     "text": [
      "YELLOW: 1\n"
     ]
    },
    {
     "ename": "KeyboardInterrupt",
     "evalue": "",
     "output_type": "error",
     "traceback": [
      "\u001b[1;31m---------------------------------------------------------------------------\u001b[0m",
      "\u001b[1;31mKeyboardInterrupt\u001b[0m                         Traceback (most recent call last)",
      "\u001b[1;32mc:\\Users\\rackaracka\\Documents\\repos\\ML\\Labb3\\Predict travel time.ipynb Cell 5'\u001b[0m in \u001b[0;36m<module>\u001b[1;34m\u001b[0m\n\u001b[0;32m     <a href='vscode-notebook-cell:/c%3A/Users/rackaracka/Documents/repos/ML/Labb3/Predict%20travel%20time.ipynb#ch0000004?line=17'>18</a>\u001b[0m \u001b[39mtry\u001b[39;00m:\n\u001b[0;32m     <a href='vscode-notebook-cell:/c%3A/Users/rackaracka/Documents/repos/ML/Labb3/Predict%20travel%20time.ipynb#ch0000004?line=18'>19</a>\u001b[0m     dfYellow \u001b[39m=\u001b[39m pd\u001b[39m.\u001b[39mread_csv(\u001b[39m\"\u001b[39m\u001b[39mtaxi_data\u001b[39m\u001b[39m\\\u001b[39m\u001b[39myellow_tripdata_2019-\u001b[39m\u001b[39m\"\u001b[39m \u001b[39m+\u001b[39m \u001b[39mstr\u001b[39m(add_zero_padding(x)) \u001b[39m+\u001b[39m \u001b[39m\"\u001b[39m\u001b[39m.csv\u001b[39m\u001b[39m\"\u001b[39m, usecols\u001b[39m=\u001b[39m[\u001b[39m\"\u001b[39m\u001b[39mPULocationID\u001b[39m\u001b[39m\"\u001b[39m, \u001b[39m\"\u001b[39m\u001b[39mDOLocationID\u001b[39m\u001b[39m\"\u001b[39m, \u001b[39m\"\u001b[39m\u001b[39mtpep_pickup_datetime\u001b[39m\u001b[39m\"\u001b[39m, \u001b[39m\"\u001b[39m\u001b[39mtpep_dropoff_datetime\u001b[39m\u001b[39m\"\u001b[39m])\n\u001b[1;32m---> <a href='vscode-notebook-cell:/c%3A/Users/rackaracka/Documents/repos/ML/Labb3/Predict%20travel%20time.ipynb#ch0000004?line=19'>20</a>\u001b[0m     dfYellow \u001b[39m=\u001b[39m format_df(dfYellow, \u001b[39m\"\u001b[39;49m\u001b[39mtpep_pickup_datetime\u001b[39;49m\u001b[39m\"\u001b[39;49m, \u001b[39m\"\u001b[39;49m\u001b[39mtpep_dropoff_datetime\u001b[39;49m\u001b[39m\"\u001b[39;49m, x)\n\u001b[0;32m     <a href='vscode-notebook-cell:/c%3A/Users/rackaracka/Documents/repos/ML/Labb3/Predict%20travel%20time.ipynb#ch0000004?line=20'>21</a>\u001b[0m     dfYellow\u001b[39m.\u001b[39mto_csv(\u001b[39m\"\u001b[39m\u001b[39mtaxi_data\u001b[39m\u001b[39m\\\u001b[39m\u001b[39myellow_tripdata_2019_concat.csv\u001b[39m\u001b[39m\"\u001b[39m, mode\u001b[39m=\u001b[39m\u001b[39m'\u001b[39m\u001b[39ma+\u001b[39m\u001b[39m'\u001b[39m, header\u001b[39m=\u001b[39mheader, index\u001b[39m=\u001b[39m\u001b[39mFalse\u001b[39;00m)\n\u001b[0;32m     <a href='vscode-notebook-cell:/c%3A/Users/rackaracka/Documents/repos/ML/Labb3/Predict%20travel%20time.ipynb#ch0000004?line=21'>22</a>\u001b[0m     header\u001b[39m=\u001b[39m\u001b[39mFalse\u001b[39;00m\n",
      "\u001b[1;32mc:\\Users\\rackaracka\\Documents\\repos\\ML\\Labb3\\Predict travel time.ipynb Cell 4'\u001b[0m in \u001b[0;36mformat_df\u001b[1;34m(DF, pickup_date_column, dropof_date_column, month)\u001b[0m\n\u001b[0;32m      <a href='vscode-notebook-cell:/c%3A/Users/rackaracka/Documents/repos/ML/Labb3/Predict%20travel%20time.ipynb#ch0000003?line=5'>6</a>\u001b[0m \u001b[39mdef\u001b[39;00m \u001b[39mformat_df\u001b[39m(DF, pickup_date_column, dropof_date_column, month):\n\u001b[0;32m      <a href='vscode-notebook-cell:/c%3A/Users/rackaracka/Documents/repos/ML/Labb3/Predict%20travel%20time.ipynb#ch0000003?line=6'>7</a>\u001b[0m     \u001b[39mfor\u001b[39;00m i, x \u001b[39min\u001b[39;00m DF\u001b[39m.\u001b[39miterrows():\n\u001b[1;32m----> <a href='vscode-notebook-cell:/c%3A/Users/rackaracka/Documents/repos/ML/Labb3/Predict%20travel%20time.ipynb#ch0000003?line=7'>8</a>\u001b[0m         DF\u001b[39m.\u001b[39mat[i,\u001b[39m\"\u001b[39m\u001b[39mmonth\u001b[39m\u001b[39m\"\u001b[39m] \u001b[39m=\u001b[39m month\n\u001b[0;32m      <a href='vscode-notebook-cell:/c%3A/Users/rackaracka/Documents/repos/ML/Labb3/Predict%20travel%20time.ipynb#ch0000003?line=8'>9</a>\u001b[0m         start \u001b[39m=\u001b[39m datetime\u001b[39m.\u001b[39mstrptime(x[pickup_date_column], DATEPARSE)\n\u001b[0;32m     <a href='vscode-notebook-cell:/c%3A/Users/rackaracka/Documents/repos/ML/Labb3/Predict%20travel%20time.ipynb#ch0000003?line=9'>10</a>\u001b[0m         stop \u001b[39m=\u001b[39m datetime\u001b[39m.\u001b[39mstrptime(x[dropof_date_column], DATEPARSE)\n",
      "File \u001b[1;32mC:\\Python310\\lib\\site-packages\\pandas\\core\\indexing.py:2286\u001b[0m, in \u001b[0;36m_AtIndexer.__setitem__\u001b[1;34m(self, key, value)\u001b[0m\n\u001b[0;32m   <a href='file:///c%3A/Python310/lib/site-packages/pandas/core/indexing.py?line=2282'>2283</a>\u001b[0m     \u001b[39mself\u001b[39m\u001b[39m.\u001b[39mobj\u001b[39m.\u001b[39mloc[key] \u001b[39m=\u001b[39m value\n\u001b[0;32m   <a href='file:///c%3A/Python310/lib/site-packages/pandas/core/indexing.py?line=2283'>2284</a>\u001b[0m     \u001b[39mreturn\u001b[39;00m\n\u001b[1;32m-> <a href='file:///c%3A/Python310/lib/site-packages/pandas/core/indexing.py?line=2285'>2286</a>\u001b[0m \u001b[39mreturn\u001b[39;00m \u001b[39msuper\u001b[39;49m()\u001b[39m.\u001b[39;49m\u001b[39m__setitem__\u001b[39;49m(key, value)\n",
      "File \u001b[1;32mC:\\Python310\\lib\\site-packages\\pandas\\core\\indexing.py:2237\u001b[0m, in \u001b[0;36m_ScalarAccessIndexer.__setitem__\u001b[1;34m(self, key, value)\u001b[0m\n\u001b[0;32m   <a href='file:///c%3A/Python310/lib/site-packages/pandas/core/indexing.py?line=2233'>2234</a>\u001b[0m \u001b[39mif\u001b[39;00m \u001b[39mlen\u001b[39m(key) \u001b[39m!=\u001b[39m \u001b[39mself\u001b[39m\u001b[39m.\u001b[39mndim:\n\u001b[0;32m   <a href='file:///c%3A/Python310/lib/site-packages/pandas/core/indexing.py?line=2234'>2235</a>\u001b[0m     \u001b[39mraise\u001b[39;00m \u001b[39mValueError\u001b[39;00m(\u001b[39m\"\u001b[39m\u001b[39mNot enough indexers for scalar access (setting)!\u001b[39m\u001b[39m\"\u001b[39m)\n\u001b[1;32m-> <a href='file:///c%3A/Python310/lib/site-packages/pandas/core/indexing.py?line=2236'>2237</a>\u001b[0m \u001b[39mself\u001b[39;49m\u001b[39m.\u001b[39;49mobj\u001b[39m.\u001b[39;49m_set_value(\u001b[39m*\u001b[39;49mkey, value\u001b[39m=\u001b[39;49mvalue, takeable\u001b[39m=\u001b[39;49m\u001b[39mself\u001b[39;49m\u001b[39m.\u001b[39;49m_takeable)\n",
      "File \u001b[1;32mC:\\Python310\\lib\\site-packages\\pandas\\core\\frame.py:3824\u001b[0m, in \u001b[0;36mDataFrame._set_value\u001b[1;34m(self, index, col, value, takeable)\u001b[0m\n\u001b[0;32m   <a href='file:///c%3A/Python310/lib/site-packages/pandas/core/frame.py?line=3821'>3822</a>\u001b[0m engine \u001b[39m=\u001b[39m \u001b[39mself\u001b[39m\u001b[39m.\u001b[39mindex\u001b[39m.\u001b[39m_engine\n\u001b[0;32m   <a href='file:///c%3A/Python310/lib/site-packages/pandas/core/frame.py?line=3822'>3823</a>\u001b[0m loc \u001b[39m=\u001b[39m engine\u001b[39m.\u001b[39mget_loc(index)\n\u001b[1;32m-> <a href='file:///c%3A/Python310/lib/site-packages/pandas/core/frame.py?line=3823'>3824</a>\u001b[0m validate_numeric_casting(series\u001b[39m.\u001b[39;49mdtype, value)\n\u001b[0;32m   <a href='file:///c%3A/Python310/lib/site-packages/pandas/core/frame.py?line=3825'>3826</a>\u001b[0m series\u001b[39m.\u001b[39m_values[loc] \u001b[39m=\u001b[39m value\n\u001b[0;32m   <a href='file:///c%3A/Python310/lib/site-packages/pandas/core/frame.py?line=3826'>3827</a>\u001b[0m \u001b[39m# Note: trying to use series._set_value breaks tests in\u001b[39;00m\n\u001b[0;32m   <a href='file:///c%3A/Python310/lib/site-packages/pandas/core/frame.py?line=3827'>3828</a>\u001b[0m \u001b[39m#  tests.frame.indexing.test_indexing and tests.indexing.test_partial\u001b[39;00m\n",
      "File \u001b[1;32mC:\\Python310\\lib\\site-packages\\pandas\\core\\series.py:562\u001b[0m, in \u001b[0;36mSeries.dtype\u001b[1;34m(self)\u001b[0m\n\u001b[0;32m    <a href='file:///c%3A/Python310/lib/site-packages/pandas/core/series.py?line=558'>559</a>\u001b[0m         \u001b[39mself\u001b[39m\u001b[39m.\u001b[39m_mgr\u001b[39m.\u001b[39mset_axis(axis, labels)\n\u001b[0;32m    <a href='file:///c%3A/Python310/lib/site-packages/pandas/core/series.py?line=560'>561</a>\u001b[0m \u001b[39m# ndarray compatibility\u001b[39;00m\n\u001b[1;32m--> <a href='file:///c%3A/Python310/lib/site-packages/pandas/core/series.py?line=561'>562</a>\u001b[0m \u001b[39m@property\u001b[39m\n\u001b[0;32m    <a href='file:///c%3A/Python310/lib/site-packages/pandas/core/series.py?line=562'>563</a>\u001b[0m \u001b[39mdef\u001b[39;00m \u001b[39mdtype\u001b[39m(\u001b[39mself\u001b[39m) \u001b[39m-\u001b[39m\u001b[39m>\u001b[39m DtypeObj:\n\u001b[0;32m    <a href='file:///c%3A/Python310/lib/site-packages/pandas/core/series.py?line=563'>564</a>\u001b[0m     \u001b[39m\"\"\"\u001b[39;00m\n\u001b[0;32m    <a href='file:///c%3A/Python310/lib/site-packages/pandas/core/series.py?line=564'>565</a>\u001b[0m \u001b[39m    Return the dtype object of the underlying data.\u001b[39;00m\n\u001b[0;32m    <a href='file:///c%3A/Python310/lib/site-packages/pandas/core/series.py?line=565'>566</a>\u001b[0m \u001b[39m    \"\"\"\u001b[39;00m\n\u001b[0;32m    <a href='file:///c%3A/Python310/lib/site-packages/pandas/core/series.py?line=566'>567</a>\u001b[0m     \u001b[39mreturn\u001b[39;00m \u001b[39mself\u001b[39m\u001b[39m.\u001b[39m_mgr\u001b[39m.\u001b[39mdtype\n",
      "\u001b[1;31mKeyboardInterrupt\u001b[0m: "
     ]
    }
   ],
   "source": [
    "#GREEN\n",
    "\n",
    "\"\"\"\n",
    "header = True\n",
    "for x in range(1, 13): # this takes 10-15 min\n",
    "    try:\n",
    "        dfGreen = pd.read_csv(\"taxi_data\\green_tripdata_2019-\" + str(add_zero_padding(x)) + \".csv\", usecols=[\"PULocationID\", \"DOLocationID\", \"lpep_pickup_datetime\", \"lpep_dropoff_datetime\"])\n",
    "        dfGreen = format_df(dfGreen, \"lpep_pickup_datetime\", \"lpep_dropoff_datetime\", x)\n",
    "        dfGreen.to_csv(\"taxi_data\\green_tripdata_2019_concat.csv\", mode='a+', header=header, index=False)\n",
    "        header=False\n",
    "        print(\"GREEN: \" + str(x))\n",
    "    except Exception as f:\n",
    "        print(f)\n",
    "\"\"\"\n",
    "# YELLOW\n",
    "header = True\n",
    "for x in range(1, 13): # 12 * 612 * 15\n",
    "    try:\n",
    "        dfYellow = pd.read_csv(\"taxi_data\\yellow_tripdata_2019-\" + str(add_zero_padding(x)) + \".csv\", usecols=[\"PULocationID\", \"DOLocationID\", \"tpep_pickup_datetime\", \"tpep_dropoff_datetime\"])\n",
    "        dfYellow = format_df(dfYellow, \"tpep_pickup_datetime\", \"tpep_dropoff_datetime\", x)\n",
    "        dfYellow.to_csv(\"taxi_data\\yellow_tripdata_2019_concat.csv\", mode='a+', header=header, index=False)\n",
    "        header=False\n",
    "        print(\"YELLOW: \" + str(x))\n",
    "    except Exception as f:\n",
    "        print(f)"
   ]
  },
  {
   "cell_type": "markdown",
   "metadata": {},
   "source": [
    "# Train"
   ]
  },
  {
   "cell_type": "markdown",
   "metadata": {},
   "source": [
    "## Using chunksize (really slow)"
   ]
  },
  {
   "cell_type": "code",
   "execution_count": 2,
   "metadata": {},
   "outputs": [],
   "source": [
    "dfGreen = pd.read_csv(\"taxi_data\\green_tripdata_2019_concat.csv\", chunksize=500000)\n",
    "\n",
    "model = KNNClassifier(n_neighbors=50)\n",
    "\n",
    "for chunk in dfGreen:\n",
    "    X_green = chunk[[\"lpep_pickup_datetime\", \"PULocationID\", \"DOLocationID\", \"month\"]] # input cols\n",
    "    y_green = chunk[[\"lpep_dropoff_datetime\"]] # output cols\n",
    "\n",
    "    X_train, X_test, y_train, y_test = train_test_split(X_green.values, y_green.values, test_size = 0.25)\n",
    "\n",
    "    model.partial_fit(X_train, y_train)\n",
    "    y_pred = model.predict(X_test)\n",
    "    print(\"Mean squared error: %.2f\" % mean_squared_error(y_test, y_pred))\n",
    "    print(\"Coefficient of determination: %.2f\" % r2_score(y_test, y_pred))\n"
   ]
  },
  {
   "cell_type": "markdown",
   "metadata": {},
   "source": [
    "## Who needs memory lul"
   ]
  },
  {
   "cell_type": "code",
   "execution_count": 7,
   "metadata": {},
   "outputs": [
    {
     "name": "stderr",
     "output_type": "stream",
     "text": [
      "C:\\Python310\\lib\\site-packages\\sklearn\\neighbors\\_classification.py:198: DataConversionWarning: A column-vector y was passed when a 1d array was expected. Please change the shape of y to (n_samples,), for example using ravel().\n",
      "  return self._fit(X, y)\n"
     ]
    },
    {
     "name": "stdout",
     "output_type": "stream",
     "text": [
      "Mean squared error: 107251.78\n",
      "Coefficient of determination: 0.99\n"
     ]
    }
   ],
   "source": [
    "dfGreen = pd.read_csv(\"taxi_data\\green_tripdata_2019_concat.csv\")\n",
    "\n",
    "model = KNeighborsClassifier(300)\n",
    "\n",
    "X_green = dfGreen[[\"lpep_pickup_datetime\", \"PULocationID\", \"DOLocationID\", \"month\"]] # input cols\n",
    "y_green = dfGreen[[\"lpep_dropoff_datetime\"]] # output cols\n",
    "\n",
    "X_train, X_test, y_train, y_test = train_test_split(X_green.values, y_green.values, test_size = 0.25)\n",
    "\n",
    "model.fit(X_train, y_train)\n",
    "y_pred = model.predict(X_test)\n",
    "print(\"Mean squared error: %.2f\" % mean_squared_error(y_test, y_pred))\n",
    "print(\"Coefficient of determination: %.2f\" % r2_score(y_test, y_pred))"
   ]
  },
  {
   "cell_type": "code",
   "execution_count": 11,
   "metadata": {},
   "outputs": [
    {
     "name": "stdout",
     "output_type": "stream",
     "text": [
      "[4286]\n"
     ]
    }
   ],
   "source": [
    "\"\"\"\n",
    "lpep_pickup_datetime,PULocationID,DOLocationID,month\n",
    "\"\"\"\n",
    "copied_from_green = [4284,4300,185,247,12.0]\n",
    "\n",
    "inputdata = [copied_from_green[0], copied_from_green[2], copied_from_green[3], copied_from_green[4]]\n",
    "outputdata = [copied_from_green[1]]\n",
    "\n",
    "pred = model.predict([\n",
    "    inputdata\n",
    "])\n",
    "\n",
    "print(pred)"
   ]
  }
 ],
 "metadata": {
  "interpreter": {
   "hash": "2be5faf79681da6f2a61fdfdd5405d65d042280f7fba6178067603e3a2925119"
  },
  "kernelspec": {
   "display_name": "Python 3.10.0 64-bit",
   "language": "python",
   "name": "python3"
  },
  "language_info": {
   "codemirror_mode": {
    "name": "ipython",
    "version": 3
   },
   "file_extension": ".py",
   "mimetype": "text/x-python",
   "name": "python",
   "nbconvert_exporter": "python",
   "pygments_lexer": "ipython3",
   "version": "3.10.0"
  },
  "orig_nbformat": 4
 },
 "nbformat": 4,
 "nbformat_minor": 2
}
