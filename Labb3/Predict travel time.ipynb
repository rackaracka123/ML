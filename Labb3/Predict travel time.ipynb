{
 "cells": [
  {
   "cell_type": "markdown",
   "metadata": {},
   "source": [
    "## Imports"
   ]
  },
  {
   "cell_type": "code",
   "execution_count": 11,
   "metadata": {},
   "outputs": [],
   "source": [
    "import pandas as pd\n",
    "import numpy as np\n",
    "\n",
    "from sklearn.model_selection import train_test_split\n",
    "\n",
    "from sklearn.linear_model import *\n",
    "from sklearn.ensemble import *\n",
    "from sklearn.preprocessing import PolynomialFeatures, MinMaxScaler\n",
    "from sklearn.neighbors import KNeighborsClassifier\n",
    "from sklearn import svm\n",
    "\n",
    "from sklearn.pipeline import make_pipeline\n",
    "from sklearn.preprocessing import *\n",
    "\n",
    "from sklearn.metrics import mean_squared_error, r2_score\n",
    "from datetime import datetime\n",
    "import math\n",
    "\n",
    "from joblib import dump, load\n",
    "\n",
    "lookup_df = pd.read_csv(\"zone_lookup.csv\")\n",
    "\n",
    "DATEPARSE = \"%Y-%m-%d %H:%M:%S\""
   ]
  },
  {
   "cell_type": "markdown",
   "metadata": {},
   "source": [
    "# Read data\n",
    "### Add data into /taxi_data/\n",
    "### Github stores a sample file of this. Download the rest and do the same."
   ]
  },
  {
   "cell_type": "code",
   "execution_count": 3,
   "metadata": {},
   "outputs": [],
   "source": [
    "def time_to_minutes(_today):\n",
    "    return (_today.hour*60) + (_today.minute)\n",
    "def add_zero_padding(number):\n",
    "    if len(str(number)) == 1: return \"0\" + str(number)\n",
    "    else: return number\n",
    "def format_df(DF, pickup_date_column, dropof_date_column, month):\n",
    "    #Clean some rows where the location id is invalid\n",
    "    DF = DF[((DF[\"PULocationID\"] != 264) & (DF[\"PULocationID\"] != 265)) & ((DF[\"DOLocationID\"] != 264) & (DF[\"DOLocationID\"] != 265))]\n",
    "\n",
    "    start = pd.to_datetime(DF[pickup_date_column])\n",
    "    stop = pd.to_datetime(DF[dropof_date_column])\n",
    "    DF['travel_time'] = (stop - start).astype('timedelta64[m]').astype('int64')\n",
    "\n",
    "    DF = DF[(DF[\"travel_time\"] < 5*60)]\n",
    "\n",
    "    DF['PU_start'] = (start).dt.hour\n",
    "\n",
    "    DF['PUlat'] = DF.PULocationID.map(lookup_df.set_index('LocationID').lat)\n",
    "    DF['PUlong'] = DF.PULocationID.map(lookup_df.set_index('LocationID').long)\n",
    "    DF['DOlat'] = DF.DOLocationID.map(lookup_df.set_index('LocationID').lat)\n",
    "    DF['DOlong'] = DF.DOLocationID.map(lookup_df.set_index('LocationID').long)\n",
    "\n",
    "    DF['distance'] = ((DF.PUlat - DF.DOlat) ** 2 + (DF.PUlong - DF.DOlong) ** 2) ** 0.5\n",
    "\n",
    "    DF = DF.drop(columns=[dropof_date_column, pickup_date_column])\n",
    "    return DF"
   ]
  },
  {
   "cell_type": "code",
   "execution_count": 4,
   "metadata": {},
   "outputs": [
    {
     "name": "stdout",
     "output_type": "stream",
     "text": [
      "Reading csv: 1\n",
      "Formating csv\n",
      "Writing csv\n",
      "DONE: 1\n",
      "Reading csv: 2\n",
      "Formating csv\n",
      "Writing csv\n",
      "DONE: 2\n",
      "Reading csv: 3\n",
      "Formating csv\n",
      "Writing csv\n",
      "DONE: 3\n",
      "Reading csv: 4\n",
      "Formating csv\n",
      "Writing csv\n",
      "DONE: 4\n",
      "Reading csv: 5\n",
      "Formating csv\n",
      "Writing csv\n",
      "DONE: 5\n",
      "Reading csv: 6\n",
      "Formating csv\n",
      "Writing csv\n",
      "DONE: 6\n",
      "Reading csv: 7\n",
      "Formating csv\n",
      "Writing csv\n",
      "DONE: 7\n",
      "Reading csv: 8\n",
      "Formating csv\n",
      "Writing csv\n",
      "DONE: 8\n",
      "Reading csv: 9\n",
      "Formating csv\n",
      "Writing csv\n",
      "DONE: 9\n",
      "Reading csv: 10\n",
      "Formating csv\n",
      "Writing csv\n",
      "DONE: 10\n",
      "Reading csv: 11\n",
      "Formating csv\n",
      "Writing csv\n",
      "DONE: 11\n",
      "Reading csv: 12\n",
      "Formating csv\n",
      "Writing csv\n",
      "DONE: 12\n"
     ]
    }
   ],
   "source": [
    "#dataset = (\"taxi_data/green_tripdata_2019\", \"l\")\n",
    "dataset = (\"taxi_data/yellow_tripdata_2019\", \"t\")\n",
    "\n",
    "header = True\n",
    "for x in range(1, 13): # this takes 5 min\n",
    "    try:\n",
    "        print(\"Reading csv: \" + str(x))\n",
    "        dfGreen = pd.read_csv(dataset[0] + \"-\" + str(add_zero_padding(x)) + \".csv\", usecols=[\"PULocationID\", \"DOLocationID\", dataset[1] + \"pep_pickup_datetime\", dataset[1] + \"pep_dropoff_datetime\"])\n",
    "        print(\"Formating csv\")\n",
    "        dfGreen = format_df(dfGreen, dataset[1] + \"pep_pickup_datetime\", dataset[1] + \"pep_dropoff_datetime\", x)\n",
    "        print(\"Writing csv\")\n",
    "        dfGreen.to_csv(dataset[0] + \"_concat.csv\", mode='a+', header=header, index=False)\n",
    "        header=False\n",
    "        print(\"DONE: \" + str(x))\n",
    "    except Exception as f:\n",
    "        print(f)"
   ]
  },
  {
   "cell_type": "markdown",
   "metadata": {},
   "source": [
    "# Train"
   ]
  },
  {
   "cell_type": "code",
   "execution_count": 18,
   "metadata": {},
   "outputs": [],
   "source": [
    "#dfGreen = pd.read_csv(\"taxi_data/green_tripdata_2019_concat.csv\", chunksize=50000)\n",
    "dfYellow = pd.read_csv(\"taxi_data/yellow_tripdata_2019_concat.csv\", chunksize=50000)\n",
    "\n",
    "model = SGDRegressor()\n",
    "\n",
    "poly = PolynomialFeatures(degree=9, include_bias=False)\n",
    "min_max = MinMaxScaler()\n",
    "\n",
    "counter = 0\n",
    "\n",
    "for chunk in dfYellow:\n",
    "\n",
    "    X_green = chunk[[\"PU_start\", \"PUlat\", \"PUlong\",\"DOlat\", \"DOlong\", \"distance\"]] # input cols\n",
    "    y_green = chunk[[\"travel_time\"]] # output cols\n",
    "    \n",
    "    scaled = poly.fit_transform(min_max.fit_transform(X_green.values))\n",
    "\n",
    "    X_train, X_test, y_train, y_test = train_test_split(scaled, y_green.values.ravel(), test_size = 0.25)\n",
    "\n",
    "    model.partial_fit(X_train, y_train)\n",
    "\n",
    "    y_pred = model.predict(X_test)\n",
    "    \n",
    "    print(\"Mean squared error: \" + str(mean_squared_error(y_test, y_pred)) + \" Accuracy: \" + str(r2_score(y_test, y_pred)))\n",
    "    counter += 1\n",
    "    if counter % 10 == 0:\n",
    "        dump(model, \"models/\" + str(datetime.today()) + '.joblib')"
   ]
  },
  {
   "cell_type": "code",
   "execution_count": 8,
   "metadata": {},
   "outputs": [
    {
     "name": "stdout",
     "output_type": "stream",
     "text": [
      "[2985.58207469]\n"
     ]
    }
   ],
   "source": [
    "\"\"\"\n",
    "lpep_pickup_datetime,PULocationID,DOLocationID,month\n",
    "\"\"\"\n",
    "copied_from_green = [2949,2964,166,142,13.7648363727615,1.0]\n",
    "\n",
    "inputdata = [copied_from_green[0], copied_from_green[2], copied_from_green[3], copied_from_green[4], copied_from_green[5]]\n",
    "outputdata = [copied_from_green[1]]\n",
    "\n",
    "inputdata = [5469,41,74,1.0]\n",
    "outputdata = [5475]\n",
    "pred = model.predict([\n",
    "    inputdata\n",
    "])\n",
    "\n",
    "print(pred)"
   ]
  }
 ],
 "metadata": {
  "interpreter": {
   "hash": "2be5faf79681da6f2a61fdfdd5405d65d042280f7fba6178067603e3a2925119"
  },
  "kernelspec": {
   "display_name": "Python 3.10.0 64-bit",
   "language": "python",
   "name": "python3"
  },
  "language_info": {
   "codemirror_mode": {
    "name": "ipython",
    "version": 3
   },
   "file_extension": ".py",
   "mimetype": "text/x-python",
   "name": "python",
   "nbconvert_exporter": "python",
   "pygments_lexer": "ipython3",
   "version": "3.10.0"
  },
  "orig_nbformat": 4
 },
 "nbformat": 4,
 "nbformat_minor": 2
}
